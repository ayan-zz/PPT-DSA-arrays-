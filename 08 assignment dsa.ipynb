{
 "cells": [
  {
   "cell_type": "markdown",
   "id": "91128cca",
   "metadata": {},
   "source": [
    "Question 1: Given two strings s1 and s2, return the lowest ASCII sum of deleted characters to make two strings equal."
   ]
  },
  {
   "cell_type": "code",
   "execution_count": 3,
   "id": "078004bf",
   "metadata": {},
   "outputs": [
    {
     "name": "stdout",
     "output_type": "stream",
     "text": [
      "231\n"
     ]
    }
   ],
   "source": [
    "def asciivalues(s1,s2):\n",
    "    strng1=list(s1)\n",
    "    strng2=list(s2)\n",
    "    new_string=[]\n",
    "    for i in strng1:\n",
    "        if i in strng2 and i not in new_string:\n",
    "            new_string.append(i)\n",
    "    \n",
    "        final_list = list(new_string)\n",
    "    #print(final_list)\n",
    "\n",
    "    for i in range(len(final_list)):\n",
    "        strng1.remove(final_list[i])\n",
    "        strng2.remove(final_list[i])\n",
    "    print(ord(''.join(strng1)) + ord(''.join(strng2)))\n",
    "\n",
    "\n",
    "s1='eat'\n",
    "s2='sea'\n",
    "asciivalues(s1,s2)"
   ]
  },
  {
   "cell_type": "markdown",
   "id": "a8bb797d",
   "metadata": {},
   "source": [
    "Question 2: Given a string s containing only three types of characters: '(', ')' and '*', return true if s is valid."
   ]
  },
  {
   "cell_type": "code",
   "execution_count": 13,
   "id": "51b2bb30",
   "metadata": {},
   "outputs": [
    {
     "data": {
      "text/plain": [
       "True"
      ]
     },
     "execution_count": 13,
     "metadata": {},
     "output_type": "execute_result"
    }
   ],
   "source": [
    "def checkValidString(s):\n",
    "    stack = []\n",
    "    \n",
    "    for c in s:\n",
    "        if c == '(' or c == '*':\n",
    "            stack.append(c)\n",
    "        elif c == ')':\n",
    "            if stack and (stack[-1] == '(' or stack[-1] == '*'):\n",
    "                stack.pop()\n",
    "            else:\n",
    "                return False\n",
    "    \n",
    "    while stack:\n",
    "        if stack[-1] == '(' or stack[-1] == '*':\n",
    "            stack.pop()\n",
    "        else:\n",
    "            return False\n",
    "    \n",
    "    return True\n",
    "\n",
    "checkValidString('((((****()))))')"
   ]
  },
  {
   "cell_type": "markdown",
   "id": "af7c3e91",
   "metadata": {},
   "source": [
    "Question 3: Given two strings word1 and word2, return the minimum number of steps required to make word1 and word2 the same."
   ]
  },
  {
   "cell_type": "code",
   "execution_count": 21,
   "id": "7d317d18",
   "metadata": {},
   "outputs": [
    {
     "name": "stdout",
     "output_type": "stream",
     "text": [
      "2\n"
     ]
    }
   ],
   "source": [
    "def numberofsteps(s1,s2):\n",
    "    strng1=list(s1)\n",
    "    strng2=list(s2)\n",
    "    new_string=[]\n",
    "    for i in strng1:\n",
    "        if i not in strng2 and i not in new_string:\n",
    "            new_string.append(i)\n",
    "    for j in strng2:\n",
    "        if j not in strng1 and j not in new_string:\n",
    "            new_string.append(j)  \n",
    "    \n",
    "        final_list = list(new_string)\n",
    "    print(len(final_list))\n",
    "    \n",
    "\n",
    "s1='sea'\n",
    "s2='eat'\n",
    "numberofsteps(s1,s2)"
   ]
  },
  {
   "cell_type": "markdown",
   "id": "8c06ee05",
   "metadata": {},
   "source": [
    "Question 4: You need to construct a binary tree from a string consisting of parenthesis and integers.\n",
    "\n",
    "The whole input represents a binary tree. It contains an integer followed by zero, one or two pairs of parenthesis. The integer represents the root's value and a pair of parenthesis contains a child binary tree with the same structure.\n",
    "You always start to construct the **left** child node of the parent first if it exists."
   ]
  },
  {
   "cell_type": "code",
   "execution_count": 1,
   "id": "e4de1c67",
   "metadata": {},
   "outputs": [
    {
     "name": "stdout",
     "output_type": "stream",
     "text": [
      "[3, 2, 1, 4, 5, 6]\n"
     ]
    }
   ],
   "source": [
    "class TreeNode:\n",
    "    def __init__(self, value):\n",
    "        self.val = value\n",
    "        self.left = None\n",
    "        self.right = None\n",
    "\n",
    "\n",
    "def construct_binary_tree(s):\n",
    "    if s[0] == '(' and s[-1] == ')':\n",
    "        s = s[1:-1]\n",
    "\n",
    "    i = s.find('(')\n",
    "\n",
    "    if i == -1:\n",
    "        return TreeNode(int(s))\n",
    "\n",
    "    node = TreeNode(int(s[:i]))\n",
    "\n",
    "    count = 0\n",
    "    j = i\n",
    "    while j < len(s):\n",
    "        if s[j] == '(':\n",
    "            count += 1\n",
    "        elif s[j] == ')':\n",
    "            count -= 1\n",
    "\n",
    "        if count == 0:\n",
    "            break\n",
    "\n",
    "        j += 1\n",
    "\n",
    "    node.left = construct_binary_tree(s[i:j+1])\n",
    "\n",
    "    if j+1 < len(s):\n",
    "        node.right = construct_binary_tree(s[j+2:-1])\n",
    "\n",
    "    return node\n",
    "\n",
    "\n",
    "def inorder_traversal(root):\n",
    "    values = []\n",
    "    \n",
    "    def traverse(node):\n",
    "        if node:\n",
    "            traverse(node.left)\n",
    "            values.append(node.val)\n",
    "            traverse(node.right)\n",
    "\n",
    "    traverse(root)\n",
    "    return values\n",
    "\n",
    "\n",
    "# Example usage\n",
    "s = \"4(2(3)(1))(6(5))\"\n",
    "\n",
    "root = construct_binary_tree(s)\n",
    "result = inorder_traversal(root)\n",
    "print(result)\n"
   ]
  },
  {
   "cell_type": "markdown",
   "id": "9e71ad62",
   "metadata": {},
   "source": [
    "Given an array of characters chars, compress it using the following algorithm:\n",
    "\n",
    "Begin with an empty string s. For each group of **consecutive repeating characters** in chars:\n",
    "\n",
    "- If the group's length is 1, append the character to s.\n",
    "- Otherwise, append the character followed by the group's length.\n",
    "\n",
    "The compressed string s **should not be returned separately**, but instead, be stored **in the input character array chars**. Note that group lengths that are 10 or longer will be split into multiple characters in chars.\n",
    "\n",
    "After you are done **modifying the input array,** return *the new length of the array*."
   ]
  },
  {
   "cell_type": "code",
   "execution_count": 13,
   "id": "56b22c78",
   "metadata": {},
   "outputs": [
    {
     "name": "stdout",
     "output_type": "stream",
     "text": [
      "8\n"
     ]
    },
    {
     "data": {
      "text/plain": [
       "['a', '3', 'e', '1', 'b', '2', 'c', '2']"
      ]
     },
     "execution_count": 13,
     "metadata": {},
     "output_type": "execute_result"
    }
   ],
   "source": [
    "def compressstring(lst):\n",
    "    str1=[]\n",
    "    a=list(set(lst))\n",
    "    for i in a:\n",
    "        cnt=lst.count(i)\n",
    "        str1.append(i)\n",
    "        str1.append(str(cnt))\n",
    "    print(len(str1))\n",
    " \n",
    "    return str1\n",
    "compressstring(['a','a','a','e','b','b','c','c'])"
   ]
  },
  {
   "cell_type": "markdown",
   "id": "9c6bb2ba",
   "metadata": {},
   "source": [
    "Question 6: Given two strings s and p, return an array of all the start indices of p's anagrams in s. You may return the answer in any order."
   ]
  },
  {
   "cell_type": "code",
   "execution_count": 15,
   "id": "ab35f2e3",
   "metadata": {},
   "outputs": [
    {
     "name": "stdout",
     "output_type": "stream",
     "text": [
      "[0, 6]\n"
     ]
    }
   ],
   "source": [
    "def find_anagrams(s, p):\n",
    "    result = []\n",
    "    p_len = len(p)\n",
    "    s_len = len(s)\n",
    "    p_freq = [0] * 26\n",
    "    window_freq = [0] * 26\n",
    "\n",
    "    \n",
    "    for char in p:\n",
    "        p_freq[ord(char) - ord('a')] += 1\n",
    "\n",
    "\n",
    "    for i in range(s_len):\n",
    "        window_freq[ord(s[i]) - ord('a')] += 1\n",
    "\n",
    "        if i >= p_len:\n",
    "            window_freq[ord(s[i - p_len]) - ord('a')] -= 1\n",
    "\n",
    "        if window_freq == p_freq:\n",
    "            result.append(i - p_len + 1)\n",
    "\n",
    "    return result\n",
    "\n",
    "\n",
    "\n",
    "s = \"cbaebabacd\"\n",
    "p = \"abc\"\n",
    "indices = find_anagrams(s, p)\n",
    "print(indices)\n"
   ]
  },
  {
   "cell_type": "markdown",
   "id": "2a49ff3f",
   "metadata": {},
   "source": [
    "Given an encoded string, return its decoded string.\n",
    "\n",
    "The encoding rule is: k[encoded_string], where the encoded_string inside the square brackets is being repeated exactly k times. Note that k is guaranteed to be a positive integer.\n",
    "\n",
    "You may assume that the input string is always valid; there are no extra white spaces, square brackets are well-formed, etc. Furthermore, you may assume that the original data does not contain any digits and that digits are only for those repeat numbers, k. For example, there will not be input like 3a or 2[4]."
   ]
  },
  {
   "cell_type": "code",
   "execution_count": 37,
   "id": "135779e8",
   "metadata": {},
   "outputs": [
    {
     "name": "stdout",
     "output_type": "stream",
     "text": [
      "aaabcbc\n"
     ]
    }
   ],
   "source": [
    "def decode_string(s):\n",
    "    stack = []\n",
    "    curr_str = \"\"\n",
    "    curr_num = 0\n",
    "\n",
    "    for char in s:\n",
    "        if char.isdigit():\n",
    "            curr_num = curr_num * 10 + int(char)\n",
    "        elif char == '[':\n",
    "            stack.append(curr_str)\n",
    "            stack.append(curr_num)\n",
    "            curr_str = \"\"\n",
    "            curr_num = 0\n",
    "        elif char == ']':\n",
    "            num = stack.pop()\n",
    "            prev_str = stack.pop()\n",
    "            curr_str = prev_str + num * curr_str\n",
    "        else:\n",
    "            curr_str += char\n",
    "\n",
    "    return curr_str\n",
    "\n",
    "\n",
    "\n",
    "encoded_string = \"3[a]2[bc]\"\n",
    "decoded_string = decode_string(encoded_string)\n",
    "print(decoded_string)\n"
   ]
  },
  {
   "cell_type": "markdown",
   "id": "73fc3db8",
   "metadata": {},
   "source": [
    "Question 8: Given two strings s and goal, return true if you can swap two letters in s so the result is equal to goal, otherwise, return false."
   ]
  },
  {
   "cell_type": "code",
   "execution_count": 41,
   "id": "7da6cc0d",
   "metadata": {},
   "outputs": [
    {
     "data": {
      "text/plain": [
       "True"
      ]
     },
     "execution_count": 41,
     "metadata": {},
     "output_type": "execute_result"
    }
   ],
   "source": [
    "def stringequal(string, goal):\n",
    "    string2=string[::-1]\n",
    "    if string2==goal:\n",
    "        return True\n",
    "    else:\n",
    "        return False\n",
    "\n",
    "stringequal('abc','cba')"
   ]
  },
  {
   "cell_type": "code",
   "execution_count": null,
   "id": "b59e17f8",
   "metadata": {},
   "outputs": [],
   "source": []
  }
 ],
 "metadata": {
  "kernelspec": {
   "display_name": "Python 3 (ipykernel)",
   "language": "python",
   "name": "python3"
  },
  "language_info": {
   "codemirror_mode": {
    "name": "ipython",
    "version": 3
   },
   "file_extension": ".py",
   "mimetype": "text/x-python",
   "name": "python",
   "nbconvert_exporter": "python",
   "pygments_lexer": "ipython3",
   "version": "3.9.13"
  }
 },
 "nbformat": 4,
 "nbformat_minor": 5
}
