{
 "cells": [
  {
   "cell_type": "markdown",
   "id": "50738e1a",
   "metadata": {},
   "source": [
    "AYAN CHOWDHURY\n",
    "\n",
    "DSA PYTHON\n",
    "\n",
    "FSDS 2.0"
   ]
  },
  {
   "cell_type": "markdown",
   "id": "0dd2af08",
   "metadata": {},
   "source": [
    "Question 1\n",
    "\n",
    "Given an integer `n`, return *`true` if it is a power of three. Otherwise, return `false`*.\n",
    "\n",
    "An integer `n` is a power of three, if there exists an integer `x` such that `n == 3x`.\n",
    "\n"
   ]
  },
  {
   "cell_type": "code",
   "execution_count": 2,
   "id": "3c26d9e2",
   "metadata": {},
   "outputs": [
    {
     "data": {
      "text/plain": [
       "True"
      ]
     },
     "execution_count": 2,
     "metadata": {},
     "output_type": "execute_result"
    }
   ],
   "source": [
    "def powerofthree(num):\n",
    "    if num==0:\n",
    "        return False\n",
    "    else:\n",
    "        if num%3==0:\n",
    "            return True\n",
    "        else:\n",
    "            return False\n",
    "        \n",
    "powerofthree(27)"
   ]
  },
  {
   "cell_type": "markdown",
   "id": "f23dc4f6",
   "metadata": {},
   "source": [
    "Question 2\n",
    "\n",
    "You have a list `arr` of all integers in the range `[1, n]` sorted in a strictly increasing order. Apply the following algorithm on `arr`:\n",
    "\n",
    "- Starting from left to right, remove the first number and every other number afterward until you reach the end of the list.\n",
    "- Repeat the previous step again, but this time from right to left, remove the rightmost number and every other number from the remaining numbers.\n",
    "- Keep repeating the steps again, alternating left to right and right to left, until a single number remains.\n",
    "\n",
    "Given the integer `n`, return *the last number that remains in* `arr`.\n"
   ]
  },
  {
   "cell_type": "code",
   "execution_count": 149,
   "id": "2d6eef24",
   "metadata": {},
   "outputs": [
    {
     "data": {
      "text/plain": [
       "6"
      ]
     },
     "execution_count": 149,
     "metadata": {},
     "output_type": "execute_result"
    }
   ],
   "source": [
    "def lefttoright(n):\n",
    "    lst=list(range(1,n+1))\n",
    "\n",
    "    \n",
    "    while len(lst)>1:\n",
    "        lst=lst[1::2]\n",
    "        \n",
    "        if len(lst)==1:\n",
    "            lst1=lst[0]\n",
    "\n",
    "        else:\n",
    "            lst=lst[-2::-2][::-1]\n",
    "            \n",
    "    return lst1\n",
    "            \n",
    "\n",
    "        \n",
    "        \n",
    "\n",
    "lefttoright(9)"
   ]
  },
  {
   "cell_type": "markdown",
   "id": "6b9c4979",
   "metadata": {},
   "source": [
    "Question 3\n",
    "Given a set represented as a string, write a recursive code to print all subsets of it. The subsets can be printed in any order.\n"
   ]
  },
  {
   "cell_type": "code",
   "execution_count": 21,
   "id": "a76bb13e",
   "metadata": {},
   "outputs": [
    {
     "name": "stdout",
     "output_type": "stream",
     "text": [
      "st\n",
      "s\n",
      "t\n",
      "\n",
      "None\n"
     ]
    }
   ],
   "source": [
    "def stringrepresentation(strng,sub_string='',index=0):\n",
    "    a=[]\n",
    "    if index==len(strng):\n",
    "        print(sub_string)\n",
    "        return \n",
    "         \n",
    "    stringrepresentation(strng,sub_string+strng[index],index+1)\n",
    "\n",
    "    stringrepresentation(strng,sub_string,index+1)\n",
    "    \n",
    "strng='st'\n",
    "ss=stringrepresentation(strng)\n",
    "print(ss)"
   ]
  },
  {
   "cell_type": "markdown",
   "id": "97279302",
   "metadata": {},
   "source": [
    "Question 4\n",
    "\n",
    "Given a string calculate length of the string using recursion.\n",
    "\n",
    "</aside>"
   ]
  },
  {
   "cell_type": "code",
   "execution_count": 35,
   "id": "f4d0cbf3",
   "metadata": {},
   "outputs": [
    {
     "data": {
      "text/plain": [
       "6"
      ]
     },
     "execution_count": 35,
     "metadata": {},
     "output_type": "execute_result"
    }
   ],
   "source": [
    "\n",
    "def lengthofstring(string,index=1):\n",
    "    index=1\n",
    "    \n",
    "    lst=list(string)\n",
    "\n",
    "    if index==len(lst):\n",
    "        return index\n",
    "\n",
    "    return 1+ lengthofstring(''.join(lst[1::]),index+1)\n",
    "  \n",
    "\n",
    "\n",
    "lengthofstring('string')"
   ]
  },
  {
   "cell_type": "code",
   "execution_count": 83,
   "id": "7fc05ac6",
   "metadata": {},
   "outputs": [
    {
     "name": "stdout",
     "output_type": "stream",
     "text": [
      "['aba']\n",
      "['a']\n",
      "['b']\n",
      "['a']\n"
     ]
    }
   ],
   "source": [
    "def subset(strng):\n",
    "    def stringrepresentation(strng,sub_string,index):\n",
    "        \n",
    "        x=[]\n",
    "        length=0\n",
    "        if index==len(strng):\n",
    "            a=list(sub_string)\n",
    "            \n",
    "            length=len(a)\n",
    "            if length==1:\n",
    "                s=''.join(a)\n",
    "                x.append(s)\n",
    "                print(x)\n",
    "            elif length>2:\n",
    "                if a[0]==a[-1]:\n",
    "                    s=''.join(a)\n",
    "                    x.append(s)\n",
    "                    print(x)\n",
    "            return \n",
    "\n",
    "\n",
    "        stringrepresentation(strng,sub_string+strng[index],index+1)\n",
    "\n",
    "        stringrepresentation(strng,sub_string,index+1)\n",
    "        \n",
    "    stringrepresentation(strng,'',0)\n",
    "\n",
    "ss='aba'    \n",
    "subset(ss)"
   ]
  },
  {
   "cell_type": "markdown",
   "id": "30f241ce",
   "metadata": {},
   "source": [
    "Question 6: Tower of Hanoi"
   ]
  },
  {
   "cell_type": "code",
   "execution_count": 32,
   "id": "810f0a75",
   "metadata": {},
   "outputs": [
    {
     "name": "stdout",
     "output_type": "stream",
     "text": [
      "move disk 1 from rod 1 to rod 2\n",
      "move disk 2 from rod 1 to rod 1\n",
      "move disk 1 from rod 1 to rod 2\n",
      "move disk 3 from rod 2 to rod 2\n",
      "move disk 1 from rod 1 to rod 2\n",
      "move disk 2 from rod 1 to rod 1\n",
      "move disk 1 from rod 1 to rod 2\n"
     ]
    }
   ],
   "source": [
    "def towerofhanoi(n):\n",
    "  \n",
    "    if n==1:\n",
    "        print(\"move disk\", n, \"from rod\", n ,\"to rod\",n+1)\n",
    "        return \n",
    "    towerofhanoi(n-1)\n",
    "    print(\"move disk\", n,\"from rod\", n-1,\"to rod\",n-1)\n",
    "    towerofhanoi(n-1)\n",
    "    #print(\"move disk\", n-1,\"from rod\", n,\"to rod\",n+1)\n",
    "    \n",
    "    \n",
    "num=3\n",
    "towerofhanoi(num)"
   ]
  },
  {
   "cell_type": "markdown",
   "id": "e2bde28f",
   "metadata": {},
   "source": [
    "Question 7\n",
    "\n",
    "Given a string **str**, the task is to print all the permutations of **str**. A **permutation** is an arrangement of all or part of a set of objects, with regard to the order of the arrangement. For instance, the words ‘bat’ and ‘tab’ represents two distinct permutation (or arrangements) of a similar three letter word.\n",
    "\n",
    "</aside>"
   ]
  },
  {
   "cell_type": "code",
   "execution_count": 23,
   "id": "dd5fe78e",
   "metadata": {},
   "outputs": [
    {
     "data": {
      "text/plain": [
       "['cba', 'bca', 'cab', 'acb', 'bac', 'abc']"
      ]
     },
     "execution_count": 23,
     "metadata": {},
     "output_type": "execute_result"
    }
   ],
   "source": [
    "def permutation(string):\n",
    "    if len(string)==1:\n",
    "        return string\n",
    "    \n",
    "    arr=string\n",
    "\n",
    "    a=[]\n",
    "    for i in range(len(arr)):\n",
    "        char=arr[i]\n",
    "        remaining=arr[:i]+arr[i+1:]\n",
    "        substring=permutation(remaining)\n",
    "        for k in substring:\n",
    "            a.append(k+char)\n",
    "            \n",
    "    return a\n",
    "\n",
    "    \n",
    "\n",
    "permutation('abc')"
   ]
  },
  {
   "cell_type": "markdown",
   "id": "b697c5ec",
   "metadata": {},
   "source": [
    "Question 8\n",
    "\n",
    "Given a string, count total number of consonants in it. A consonant is an English alphabet character that is not vowel (a, e, i, o and u). Examples of constants are b, c, d, f, and g.\n",
    "\n",
    "</aside>"
   ]
  },
  {
   "cell_type": "code",
   "execution_count": 4,
   "id": "a17be794",
   "metadata": {},
   "outputs": [
    {
     "data": {
      "text/plain": [
       "3"
      ]
     },
     "execution_count": 4,
     "metadata": {},
     "output_type": "execute_result"
    }
   ],
   "source": [
    "def consonants(string):\n",
    "  \n",
    "    lst={'a','e','i','o','u'}\n",
    "    \n",
    "    a=0\n",
    "    if len(string)==0:\n",
    "        return 0\n",
    "    elif string[0] not in lst:\n",
    "        return 1+ consonants(string[1:])\n",
    "    else:\n",
    "        return consonants(string[1:])\n",
    "\n",
    "        \n",
    "    \n",
    "    \n",
    "consonants('abcd')        "
   ]
  },
  {
   "cell_type": "code",
   "execution_count": null,
   "id": "9227f54a",
   "metadata": {},
   "outputs": [],
   "source": []
  }
 ],
 "metadata": {
  "kernelspec": {
   "display_name": "Python 3 (ipykernel)",
   "language": "python",
   "name": "python3"
  },
  "language_info": {
   "codemirror_mode": {
    "name": "ipython",
    "version": 3
   },
   "file_extension": ".py",
   "mimetype": "text/x-python",
   "name": "python",
   "nbconvert_exporter": "python",
   "pygments_lexer": "ipython3",
   "version": "3.9.13"
  }
 },
 "nbformat": 4,
 "nbformat_minor": 5
}
