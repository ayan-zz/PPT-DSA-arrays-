{
 "cells": [
  {
   "cell_type": "markdown",
   "id": "61b6363d",
   "metadata": {},
   "source": [
    "## PPT - DSA (ARRAYS)\n",
    "### ASSIGNMENT 01\n",
    "#### Name: Ayan Chowdhury (FSDS 2.0)"
   ]
  },
  {
   "cell_type": "markdown",
   "id": "c5bda4ff",
   "metadata": {},
   "source": [
    "Q1. Given an array of integers nums and an integer target, return indices of the two numbers \n",
    "such that they add up to target."
   ]
  },
  {
   "cell_type": "code",
   "execution_count": 1,
   "id": "c2eb0d09",
   "metadata": {},
   "outputs": [
    {
     "name": "stdout",
     "output_type": "stream",
     "text": [
      "[1, 0]\n"
     ]
    }
   ],
   "source": [
    "ar= [2,7,11,15]\n",
    "target=9\n",
    "\n",
    "ind=[]\n",
    "for i in range(len(ar)):\n",
    "    for j in range(i+1,len(ar)):\n",
    "        sum=ar[i]+ar[j]\n",
    "        if sum==target:\n",
    "            ind=[j,i]\n",
    "        else:\n",
    "            j=j+1\n",
    "print(ind)"
   ]
  },
  {
   "cell_type": "markdown",
   "id": "62103d6b",
   "metadata": {},
   "source": [
    "Q2. Given an integer array nums and an integer val, remove all occurrences of val in nums in-place. The order of the elements may be changed. Then return the number of elements in nums which are not equal to val."
   ]
  },
  {
   "cell_type": "code",
   "execution_count": 2,
   "id": "fb404c14",
   "metadata": {},
   "outputs": [
    {
     "name": "stdout",
     "output_type": "stream",
     "text": [
      "2\n"
     ]
    }
   ],
   "source": [
    "import array as ar\n",
    "ar=([3,3,2,1])\n",
    "val=3\n",
    "val_new=[]\n",
    "for i in range(len(ar)):\n",
    "    if ar[i]!=val:\n",
    "        s=ar[i]\n",
    "        val_new.append(s)\n",
    "        \n",
    "    else:\n",
    "        i=i+1\n",
    "\n",
    "print(len(val_new))        \n",
    "        "
   ]
  },
  {
   "cell_type": "markdown",
   "id": "ae323a16",
   "metadata": {},
   "source": [
    "Q3. Given a sorted array of distinct integers and a target value, return the index if the target is found. If not, return the index where it would be if it were inserted in order.\n"
   ]
  },
  {
   "cell_type": "code",
   "execution_count": 3,
   "id": "de74176d",
   "metadata": {},
   "outputs": [
    {
     "name": "stdout",
     "output_type": "stream",
     "text": [
      "1\n"
     ]
    }
   ],
   "source": [
    "arr=[1,3,5,7,9]\n",
    "val=2\n",
    "ar=[]\n",
    "\n",
    "for i in range(len(arr)):\n",
    "    if arr[i]==val:\n",
    "        p=i\n",
    "    else:   \n",
    "        i=i+1\n",
    "        arr.append(val)\n",
    "        new_val=sorted(list(arr))\n",
    "        p=new_val.index(val)\n",
    "print(p)"
   ]
  },
  {
   "cell_type": "markdown",
   "id": "517e4b04",
   "metadata": {},
   "source": [
    "Q4. You are given a large integer represented as an integer array digits, where each digits[i] is the ith digit of the integer. The digits are ordered from most significant to least significant in left-to-right order. The large integer does not contain any leading 0's.\n"
   ]
  },
  {
   "cell_type": "code",
   "execution_count": 4,
   "id": "75b6dcba",
   "metadata": {},
   "outputs": [
    {
     "name": "stdout",
     "output_type": "stream",
     "text": [
      "[1, 2, 3, 6]\n"
     ]
    }
   ],
   "source": [
    "arr=[1,2,3,5]\n",
    "j=len(arr)-1\n",
    "if arr[j]==9:\n",
    "    arr[j-1]=arr[j-1]+1\n",
    "    arr[j]=0\n",
    "    new_arr=arr\n",
    "else:\n",
    "    arr[j]=arr[j]+1\n",
    "    new_arr=arr\n",
    "print(new_arr)\n",
    "        "
   ]
  },
  {
   "cell_type": "markdown",
   "id": "6d34be62",
   "metadata": {},
   "source": [
    "Q5. You are given two integer arrays nums1 and nums2, sorted in non-decreasing order, and two integers m and n, representing the number of elements in nums1 and nums2 respectively.\n",
    "Merge nums1 and nums2 into a single array sorted in non-decreasing order.\n"
   ]
  },
  {
   "cell_type": "code",
   "execution_count": 5,
   "id": "b0fdf700",
   "metadata": {},
   "outputs": [
    {
     "name": "stdout",
     "output_type": "stream",
     "text": [
      "[1, 2, 3, 2, 5, 6]\n"
     ]
    }
   ],
   "source": [
    "nums1=[1,2,3,0,0,0]\n",
    "nums2=[2,5,6]\n",
    "m=3\n",
    "n=3\n",
    "\n",
    "p1=m-1\n",
    "p2=n-1\n",
    "p=m+n-1\n",
    "\n",
    "while (p1>=0 and p2>=0):\n",
    "    if nums1[p1]>=nums2[p2]:\n",
    "        nums1[p]=nums1[p1]\n",
    "        p1-=1\n",
    "    else:\n",
    "        nums1[p]=nums2[p2]\n",
    "        p2-=1\n",
    "    p-=1\n",
    "    \n",
    "    while p2>=0:\n",
    "        nums1[p]=nums2[p2]\n",
    "        p2-=1\n",
    "        p-=1\n",
    "print(nums1)    \n",
    "    "
   ]
  },
  {
   "cell_type": "markdown",
   "id": "ced3557e",
   "metadata": {},
   "source": [
    "Q6. Given an integer array nums, return true if any value appears at least twice in the array,and return false if every element is distinct."
   ]
  },
  {
   "cell_type": "code",
   "execution_count": 6,
   "id": "828cedd9",
   "metadata": {},
   "outputs": [
    {
     "data": {
      "text/plain": [
       "True"
      ]
     },
     "execution_count": 6,
     "metadata": {},
     "output_type": "execute_result"
    }
   ],
   "source": [
    "def input_value(lst):\n",
    "    for i in range(len(lst)):\n",
    "        cnt=lst.count(lst[i])\n",
    "        if cnt>1:\n",
    "            p=True\n",
    "            break\n",
    "        else:\n",
    "            i=i+1\n",
    "            p=False\n",
    "    return p\n",
    "\n",
    "#output\n",
    "input_value([1,5,6,2,2])"
   ]
  },
  {
   "cell_type": "markdown",
   "id": "c97cda8f",
   "metadata": {},
   "source": [
    "Q7.Given an integer array nums, move all 0's to the end of it while maintaining the relative order of the nonzero elements. Note that you must do this in-place without making a copy of the array."
   ]
  },
  {
   "cell_type": "code",
   "execution_count": 7,
   "id": "bd7fc079",
   "metadata": {},
   "outputs": [
    {
     "data": {
      "text/plain": [
       "[1, 2, 4, 9, 1, 2, 4, 0, 0, 0, 0]"
      ]
     },
     "execution_count": 7,
     "metadata": {},
     "output_type": "execute_result"
    }
   ],
   "source": [
    "def input_value(lst):\n",
    "    cnt=lst.count(lst==0)\n",
    "    lst=[i for i in lst if i!=0]\n",
    "    val=[0]*cnt\n",
    "    lst=lst+val\n",
    "    return lst\n",
    "\n",
    "#output\n",
    "input_value([1,2,0,4,9,1,0,0,2,4,0])"
   ]
  },
  {
   "cell_type": "markdown",
   "id": "dd9fd60e",
   "metadata": {},
   "source": [
    "Q8. You have a set of integers s, which originally contains all the numbers from 1 to n. Unfortunately, due to some error, one of the numbers in s got duplicated to another number in the set, which results in repetition of one number and loss of another number.\n"
   ]
  },
  {
   "cell_type": "code",
   "execution_count": 8,
   "id": "f452c07c",
   "metadata": {},
   "outputs": [],
   "source": [
    "def input_value(lst):\n",
    "    for i in range(len(lst)):\n",
    "        cnt=lst.count(lst[i])\n",
    "        if cnt==2:\n",
    "            dup=lst[i]\n",
    "            ar1=lst[i]+1\n",
    "            ar2=lst[i]-1\n",
    "            for j in lst:\n",
    "                if j==ar1:\n",
    "                    item=ar2\n",
    "                else:\n",
    "                    item=ar1\n",
    "            else:\n",
    "                pass\n",
    "            \n",
    "    return [dup,item]        "
   ]
  },
  {
   "cell_type": "code",
   "execution_count": 9,
   "id": "8051677c",
   "metadata": {},
   "outputs": [
    {
     "data": {
      "text/plain": [
       "[6, 5]"
      ]
     },
     "execution_count": 9,
     "metadata": {},
     "output_type": "execute_result"
    }
   ],
   "source": [
    "input_value([1,2,3,4,6,6,7])"
   ]
  },
  {
   "cell_type": "code",
   "execution_count": null,
   "id": "9f78688b",
   "metadata": {},
   "outputs": [],
   "source": []
  }
 ],
 "metadata": {
  "kernelspec": {
   "display_name": "Python 3 (ipykernel)",
   "language": "python",
   "name": "python3"
  },
  "language_info": {
   "codemirror_mode": {
    "name": "ipython",
    "version": 3
   },
   "file_extension": ".py",
   "mimetype": "text/x-python",
   "name": "python",
   "nbconvert_exporter": "python",
   "pygments_lexer": "ipython3",
   "version": "3.9.13"
  }
 },
 "nbformat": 4,
 "nbformat_minor": 5
}
