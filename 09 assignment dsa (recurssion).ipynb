{
 "cells": [
  {
   "cell_type": "markdown",
   "id": "a275b673",
   "metadata": {},
   "source": [
    "#### DSA ASSIGNMENT 09 RECURSSIONS\n",
    "\n",
    "##### AYAN CHOWDHURY\n",
    "\n",
    "**FSDS 2.0**"
   ]
  },
  {
   "cell_type": "markdown",
   "id": "bd894e4f",
   "metadata": {},
   "source": [
    "Question 1\n",
    "\n",
    "Given an integer `n`, return *`true` if it is a power of two. Otherwise, return `false`*.\n",
    "\n",
    "An integer `n` is a power of two, if there exists an integer `x` such that `n == 2x`."
   ]
  },
  {
   "cell_type": "code",
   "execution_count": 20,
   "id": "1284223c",
   "metadata": {},
   "outputs": [
    {
     "data": {
      "text/plain": [
       "True"
      ]
     },
     "execution_count": 20,
     "metadata": {},
     "output_type": "execute_result"
    }
   ],
   "source": [
    "def poweroftwo(num):\n",
    "    \n",
    "    n=num/2\n",
    "    if n==1:\n",
    "        return True\n",
    "    elif n%2!=0 or n<1:\n",
    "        return False\n",
    "    return poweroftwo(num//2)\n",
    "\n",
    "\n",
    "     \n",
    "num=8\n",
    "ab=poweroftwo(num)\n",
    "ab"
   ]
  },
  {
   "cell_type": "markdown",
   "id": "7fada89d",
   "metadata": {},
   "source": [
    "Q2. Given a number n, find the sum of the first natural numbers."
   ]
  },
  {
   "cell_type": "code",
   "execution_count": 21,
   "id": "a0c27c22",
   "metadata": {},
   "outputs": [
    {
     "name": "stdout",
     "output_type": "stream",
     "text": [
      "15\n"
     ]
    }
   ],
   "source": [
    "class solutions:\n",
    "    def sumofnumbers(num: int)->int:\n",
    "\n",
    "        s=0\n",
    "        if num>0:\n",
    "            n=num+1\n",
    "            for i in range(1,n):\n",
    "                s=s+i\n",
    "            print(s)\n",
    "        else:\n",
    "            print('not natural number')\n",
    "\n",
    "        return \n",
    "\n",
    "num=5\n",
    "solutions.sumofnumbers(num)  "
   ]
  },
  {
   "cell_type": "markdown",
   "id": "551c4d3a",
   "metadata": {},
   "source": [
    "Q3 Given a positive integer, N. Find the factorial of N. "
   ]
  },
  {
   "cell_type": "code",
   "execution_count": 22,
   "id": "3c6c50ed",
   "metadata": {},
   "outputs": [
    {
     "name": "stdout",
     "output_type": "stream",
     "text": [
      "6\n"
     ]
    }
   ],
   "source": [
    "class solutions:\n",
    "    def factorial(num: int)->int:\n",
    "\n",
    "        s=1\n",
    "        if num>0:\n",
    "            n=num+1\n",
    "            for i in range(1,n):\n",
    "                s=s*i\n",
    "            print(s)\n",
    "        else:\n",
    "            print('not positive number')\n",
    "\n",
    "        return \n",
    "\n",
    "num=3\n",
    "solutions.factorial(num)  "
   ]
  },
  {
   "cell_type": "markdown",
   "id": "ab14a421",
   "metadata": {},
   "source": [
    "Q4 Given a number N and a power P, the task is to find the exponent of this number raised to the given power, i.e. N^P."
   ]
  },
  {
   "cell_type": "code",
   "execution_count": 23,
   "id": "63de306f",
   "metadata": {},
   "outputs": [
    {
     "name": "stdout",
     "output_type": "stream",
     "text": [
      "0.111\n"
     ]
    }
   ],
   "source": [
    "class solutions:\n",
    "    def exponent(num,n):\n",
    "        if n==0:\n",
    "            return 1\n",
    "        \n",
    "        if n>0:\n",
    "            s=1\n",
    "            np=n+1\n",
    "            for i in range(1,np):\n",
    "                s=s*num\n",
    "           \n",
    "        elif n<0:\n",
    "            p=1\n",
    "            np=abs(n)+1\n",
    "            for i in range(1,np):\n",
    "                p=p*num\n",
    "                s=1/p\n",
    "            \n",
    "            \n",
    "            \n",
    "        return round(s,3)\n",
    "num=3\n",
    "n=-2\n",
    "obj=solutions.exponent(num,n)\n",
    "print(obj)"
   ]
  },
  {
   "cell_type": "markdown",
   "id": "e0c47249",
   "metadata": {},
   "source": [
    "Q5 Given an array of integers **arr**, the task is to find maximum element of that array using recursion."
   ]
  },
  {
   "cell_type": "code",
   "execution_count": 32,
   "id": "ea1d88a1",
   "metadata": {},
   "outputs": [
    {
     "name": "stdout",
     "output_type": "stream",
     "text": [
      "811\n"
     ]
    }
   ],
   "source": [
    "class solutions():\n",
    "    def maximumarr(arr):\n",
    "        n=len(arr)\n",
    "        if n==1:\n",
    "            return arr[0]\n",
    "        \n",
    "        else:\n",
    "\n",
    "            mid=n//2\n",
    "            lefthalf=arr[:mid]\n",
    "            righthalf=arr[mid:]\n",
    "            left=solutions.maximumarr(lefthalf)\n",
    "            right=solutions.maximumarr(righthalf)\n",
    "\n",
    "            if left>right:\n",
    "                return left\n",
    "            else:\n",
    "                return right\n",
    "\n",
    "\n",
    "    \n",
    "arr=[141,19,811,200]\n",
    "obj=solutions.maximumarr(arr)\n",
    "print(obj)"
   ]
  },
  {
   "cell_type": "markdown",
   "id": "42fa433d",
   "metadata": {},
   "source": [
    "Q6 Given first term (a), common difference (d) and a integer N of the Arithmetic Progression series, the task is to find Nth term of the series."
   ]
  },
  {
   "cell_type": "code",
   "execution_count": 25,
   "id": "fb4eef83",
   "metadata": {},
   "outputs": [
    {
     "data": {
      "text/plain": [
       "17"
      ]
     },
     "execution_count": 25,
     "metadata": {},
     "output_type": "execute_result"
    }
   ],
   "source": [
    "def arthmeticprogression(a,n,d):\n",
    "    if n==1:\n",
    "        last=a\n",
    "        return last\n",
    "    elif n>1:\n",
    "        s=0\n",
    "        for i in range(2,n+1):\n",
    "            s+=d\n",
    "        last=a+s\n",
    "        return last\n",
    "    \n",
    "arthmeticprogression(1,9,2)"
   ]
  },
  {
   "cell_type": "markdown",
   "id": "7c9c07ca",
   "metadata": {},
   "source": [
    "Q7 Given a string S, the task is to write a program to print all permutations of a given string."
   ]
  },
  {
   "cell_type": "code",
   "execution_count": 33,
   "id": "a0380716",
   "metadata": {},
   "outputs": [
    {
     "name": "stdout",
     "output_type": "stream",
     "text": [
      "['abcd', 'abdc', 'acbd', 'acdb', 'adbc', 'adcb', 'bacd', 'badc', 'bcad', 'bcda', 'bdac', 'bdca', 'cabd', 'cadb', 'cbad', 'cbda', 'cdab', 'cdba', 'dabc', 'dacb', 'dbac', 'dbca', 'dcab', 'dcba']\n"
     ]
    }
   ],
   "source": [
    "class solution():\n",
    "    def permutations(strng):\n",
    "        n=len(strng)\n",
    "        if n==1:\n",
    "            return strng\n",
    "\n",
    "        elif n>1:\n",
    "            a=[]\n",
    "            for i in range(len(strng)):\n",
    "                char=strng[i]\n",
    "                remain=strng[:i]+strng[i+1:]\n",
    "                substring=solution.permutations(remain)\n",
    "                for k in substring:\n",
    "                    a.append(char+k)\n",
    "\n",
    "            return a\n",
    "\n",
    "strng='abcd'\n",
    "ac=permutations(strng)        \n",
    "print(ac)"
   ]
  },
  {
   "cell_type": "markdown",
   "id": "5820e50d",
   "metadata": {},
   "source": [
    "Q 8 Given an array, find a product of all array elements."
   ]
  },
  {
   "cell_type": "code",
   "execution_count": 31,
   "id": "1bb1c7e5",
   "metadata": {},
   "outputs": [
    {
     "name": "stdout",
     "output_type": "stream",
     "text": [
      "288\n"
     ]
    }
   ],
   "source": [
    "class solutions():\n",
    "    def product(arr):\n",
    "        if len(arr)==1:\n",
    "            return arr[0]\n",
    "        else:\n",
    "            s=1\n",
    "            for i in range(len(arr)):\n",
    "                s=s*arr[i]\n",
    "            return s\n",
    "        \n",
    "        \n",
    "arr=[1,4,8,9]\n",
    "obj=solutions.product(arr)\n",
    "print(obj)"
   ]
  },
  {
   "cell_type": "code",
   "execution_count": null,
   "id": "a0849ea8",
   "metadata": {},
   "outputs": [],
   "source": []
  }
 ],
 "metadata": {
  "kernelspec": {
   "display_name": "Python 3 (ipykernel)",
   "language": "python",
   "name": "python3"
  },
  "language_info": {
   "codemirror_mode": {
    "name": "ipython",
    "version": 3
   },
   "file_extension": ".py",
   "mimetype": "text/x-python",
   "name": "python",
   "nbconvert_exporter": "python",
   "pygments_lexer": "ipython3",
   "version": "3.9.13"
  }
 },
 "nbformat": 4,
 "nbformat_minor": 5
}
