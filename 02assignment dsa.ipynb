{
 "cells": [
  {
   "cell_type": "markdown",
   "id": "99892cae",
   "metadata": {},
   "source": [
    "## PPT - DSA (ARRAYS)\n",
    "### ASSIGNMENT 02\n",
    "#### Name: Ayan Chowdhury (FSDS 2.0)"
   ]
  },
  {
   "cell_type": "markdown",
   "id": "54adf4be",
   "metadata": {},
   "source": [
    "###### Question 1\n",
    "Given an integer array nums of 2n integers, group these integers into n pairs (a1, b1), (a2, b2),\n",
    "..., (an, bn) such that the sum of min(ai, bi) for all i is maximized. Return the maximized sum."
   ]
  },
  {
   "cell_type": "code",
   "execution_count": 18,
   "id": "00c652b4",
   "metadata": {},
   "outputs": [],
   "source": [
    "def input_value(lst):\n",
    "    k=len(lst)\n",
    "    new_lst=[]\n",
    "    for i in range(0,k-1,+1):\n",
    "        ar1=[lst[i],lst[i+1]]\n",
    "        min1=sorted(ar1)\n",
    "        min1=min1[0]\n",
    "        for j in range(k-1,0,-1):\n",
    "            ar2=[lst[j],lst[j-1]]   \n",
    "            min2=sorted(ar2)\n",
    "            min2=min2[0]\n",
    "            val=min1+min2\n",
    "        new_lst.append(val)\n",
    "    return max(new_lst)"
   ]
  },
  {
   "cell_type": "code",
   "execution_count": 26,
   "id": "f7e12b56",
   "metadata": {},
   "outputs": [
    {
     "data": {
      "text/plain": [
       "5"
      ]
     },
     "execution_count": 26,
     "metadata": {},
     "output_type": "execute_result"
    }
   ],
   "source": [
    "input_value([4,2,4,2,4,3])"
   ]
  },
  {
   "cell_type": "markdown",
   "id": "542da95c",
   "metadata": {},
   "source": [
    "###### Question 2\n",
    "Alice has n candies, where the ith candy is of type candyType[i]. Alice noticed that she started\n",
    "to gain weight, so she visited a doctor.\n",
    "The doctor advised Alice to only eat n / 2 of the candies she has (n is always even). Alice\n",
    "likes her candies very much, and she wants to eat the maximum number of different types of\n",
    "candies while still following the doctor's advice.\n",
    "Given the integer array candyType of length n, return the maximum number of different types\n",
    "of candies she can eat if she only eats n / 2 of them."
   ]
  },
  {
   "cell_type": "code",
   "execution_count": 51,
   "id": "e3334b88",
   "metadata": {},
   "outputs": [],
   "source": [
    "def input_candies(lst):\n",
    "    p=[]\n",
    "    n=len(lst)\n",
    "    uni=list(set(lst))\n",
    "    for i in uni:\n",
    "        if i==lst:\n",
    "            p.append(i)\n",
    "            if len(p)==n/2:\n",
    "                break\n",
    "        else:\n",
    "            p.append(i)\n",
    "            if len(p)==n/2:\n",
    "                break\n",
    "    return p       \n",
    "            "
   ]
  },
  {
   "cell_type": "code",
   "execution_count": 74,
   "id": "698872ab",
   "metadata": {},
   "outputs": [
    {
     "data": {
      "text/plain": [
       "[2, 3, 5, 6]"
      ]
     },
     "execution_count": 74,
     "metadata": {},
     "output_type": "execute_result"
    }
   ],
   "source": [
    "input_candies([2,3,5,2,6,8,10,5])"
   ]
  },
  {
   "cell_type": "markdown",
   "id": "d87c16de",
   "metadata": {},
   "source": [
    "##### Question 3\n",
    "We define a harmonious array as an array where the difference between its maximum value\n",
    "and its minimum value is exactly 1.\n",
    "Given an integer array nums, return the length of its longest harmonious subsequence\n",
    "among all its possible subsequences.\n",
    "A subsequence of an array is a sequence that can be derived from the array by deleting some\n",
    "or no elements without changing the order of the remaining elements"
   ]
  },
  {
   "cell_type": "code",
   "execution_count": 16,
   "id": "e4682d3f",
   "metadata": {},
   "outputs": [],
   "source": [
    "def enter_value(nums):\n",
    "    num_counts = {}\n",
    "    result = 0\n",
    "\n",
    "    for num in nums:\n",
    "        num_counts[num] = num_counts.get(num, 0) + 1\n",
    "\n",
    "    for num in num_counts:\n",
    "        if num + 1 in num_counts:\n",
    "            length = num_counts[num] + num_counts[num + 1]\n",
    "            result = max(result, length)\n",
    "\n",
    "    return result\n",
    "        "
   ]
  },
  {
   "cell_type": "code",
   "execution_count": 17,
   "id": "4dba5410",
   "metadata": {},
   "outputs": [
    {
     "data": {
      "text/plain": [
       "4"
      ]
     },
     "execution_count": 17,
     "metadata": {},
     "output_type": "execute_result"
    }
   ],
   "source": [
    "enter_value([1,2,3,3,4,4,2,5,6,9])"
   ]
  },
  {
   "cell_type": "markdown",
   "id": "b14f52c7",
   "metadata": {},
   "source": [
    "###### Question 4\n",
    "You have a long flowerbed in which some of the plots are planted, and some are not.\n",
    "However, flowers cannot be planted in adjacent plots.\n",
    "Given an integer array flowerbed containing 0's and 1's, where 0 means empty and 1 means\n",
    "not empty, and an integer n, return true if n new flowers can be planted in the flowerbed\n",
    "without violating the no-adjacent-flowers rule and false otherwise."
   ]
  },
  {
   "cell_type": "code",
   "execution_count": 50,
   "id": "4aeac8db",
   "metadata": {},
   "outputs": [
    {
     "data": {
      "text/plain": [
       "False"
      ]
     },
     "execution_count": 50,
     "metadata": {},
     "output_type": "execute_result"
    }
   ],
   "source": [
    "def Flowers(fl, n):\n",
    "    fl.append(0)  \n",
    "    fl.insert(0, 0)  \n",
    "    count = 0\n",
    "    i = 1\n",
    "    while i < len(fl) - 1:\n",
    "            if fl[i] == 0 and fl[i-1] == 0 and fl[i+1] == 0:\n",
    "                fl[i] = 1  \n",
    "                count += 1\n",
    "                i += 1  \n",
    "            i += 1\n",
    "\n",
    "    return count >= n\n",
    "\n",
    "Flowers([1,0,0,0,1,1],2)"
   ]
  },
  {
   "cell_type": "markdown",
   "id": "36449f41",
   "metadata": {},
   "source": [
    "###### Question 5\n",
    "Given an integer array nums, find three numbers whose product is maximum and return the\n",
    "maximum product."
   ]
  },
  {
   "cell_type": "code",
   "execution_count": 10,
   "id": "ecf143ed",
   "metadata": {},
   "outputs": [
    {
     "name": "stdout",
     "output_type": "stream",
     "text": [
      "[9, 10, 22]\n"
     ]
    },
    {
     "data": {
      "text/plain": [
       "1980"
      ]
     },
     "execution_count": 10,
     "metadata": {},
     "output_type": "execute_result"
    }
   ],
   "source": [
    "def enter_array(lst):\n",
    "    new_lst=sorted(lst)\n",
    "    m=len(new_lst)-1\n",
    "    amt1=new_lst[m]\n",
    "    amt2=new_lst[m-1]\n",
    "    amt3=new_lst[m-2]\n",
    "    p=[amt3,amt2,amt1]\n",
    "    product=amt1*amt2*amt3\n",
    "    print(p)\n",
    "    return (product)\n",
    "\n",
    "#output\n",
    "enter_array([1,5,8,22,10,3,4,9])"
   ]
  },
  {
   "cell_type": "markdown",
   "id": "321a4036",
   "metadata": {},
   "source": [
    "##### Question 6\n",
    "Given an array of integers nums which is sorted in ascending order, and an integer target,\n",
    "write a function to search target in nums. If target exists, then return its index. Otherwise,\n",
    "return -1.\n",
    "You must write an algorithm with O(log n) runtime complexity."
   ]
  },
  {
   "cell_type": "code",
   "execution_count": 20,
   "id": "c09f29fc",
   "metadata": {},
   "outputs": [
    {
     "data": {
      "text/plain": [
       "4"
      ]
     },
     "execution_count": 20,
     "metadata": {},
     "output_type": "execute_result"
    }
   ],
   "source": [
    "def enter_array(lst,ele):\n",
    "    num=sorted(lst)\n",
    "    for i in range(len(num)):\n",
    "        if num[i]==ele:\n",
    "            t=i\n",
    "            break\n",
    "        else:\n",
    "            t=-1\n",
    "    return t\n",
    "\n",
    "enter_array([3,-1,2,5,6,7,81,9],6)"
   ]
  },
  {
   "cell_type": "markdown",
   "id": "e5b160c6",
   "metadata": {},
   "source": [
    "##### Question 7\n",
    "An array is monotonic if it is either monotone increasing or monotone decreasing.\n",
    "An array nums is monotone increasing if for all i <= j, nums[i] <= nums[j]. An array nums is\n",
    "monotone decreasing if for all i <= j, nums[i] >= nums[j].\n",
    "Given an integer array nums, return true if the given array is monotonic, or false otherwise."
   ]
  },
  {
   "cell_type": "code",
   "execution_count": 40,
   "id": "eaedab4e",
   "metadata": {},
   "outputs": [
    {
     "data": {
      "text/plain": [
       "False"
      ]
     },
     "execution_count": 40,
     "metadata": {},
     "output_type": "execute_result"
    }
   ],
   "source": [
    "def enter_array(lst):\n",
    "    for i in range(len(lst)-1):\n",
    "        if lst[i]<lst[i+1]:\n",
    "            i=i+1\n",
    "            p=True\n",
    "        else:\n",
    "            p=False\n",
    "            break\n",
    "   \n",
    "    for i in range(len(lst)-1,0,-1):\n",
    "        if lst[i]>lst[i-1]:\n",
    "            i=i-1\n",
    "            p=True\n",
    "        else:\n",
    "            p=False\n",
    "            break\n",
    "    return p\n",
    "\n",
    "#output\n",
    "enter_array([4,5,2,1])"
   ]
  },
  {
   "cell_type": "markdown",
   "id": "e2a4d053",
   "metadata": {},
   "source": [
    "##### Question 8\n",
    "You are given an integer array nums and an integer k.\n",
    "In one operation, you can choose any index i where 0 <= i < nums.length and change nums[i]\n",
    "to nums[i] + x where x is an integer from the range [-k, k]. You can apply this operation at\n",
    "most once for each index i.\n",
    "The score of nums is the difference between the maximum and minimum elements in nums.\n",
    "Return the minimum score of nums after applying the mentioned operation at most once for\n",
    "each index in it."
   ]
  },
  {
   "cell_type": "code",
   "execution_count": 49,
   "id": "3b34d9ac",
   "metadata": {},
   "outputs": [
    {
     "data": {
      "text/plain": [
       "2"
      ]
     },
     "execution_count": 49,
     "metadata": {},
     "output_type": "execute_result"
    }
   ],
   "source": [
    "def enter_array(lst,x):\n",
    "    a=[]\n",
    "    for i in range(len(lst)):\n",
    "        lst[i]=lst[i]+x\n",
    "        a1=min(lst)\n",
    "        a2=max(lst)\n",
    "        diff=a2-a1\n",
    "        i=i+1\n",
    "        a.append(diff)\n",
    "        score=min(a)\n",
    "    return score\n",
    "\n",
    "#output\n",
    "enter_array([5,5,9,7,8],2)       "
   ]
  }
 ],
 "metadata": {
  "kernelspec": {
   "display_name": "Python 3 (ipykernel)",
   "language": "python",
   "name": "python3"
  },
  "language_info": {
   "codemirror_mode": {
    "name": "ipython",
    "version": 3
   },
   "file_extension": ".py",
   "mimetype": "text/x-python",
   "name": "python",
   "nbconvert_exporter": "python",
   "pygments_lexer": "ipython3",
   "version": "3.9.13"
  }
 },
 "nbformat": 4,
 "nbformat_minor": 5
}
