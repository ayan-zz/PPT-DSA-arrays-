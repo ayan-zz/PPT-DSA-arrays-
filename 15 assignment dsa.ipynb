{
 "cells": [
  {
   "cell_type": "markdown",
   "id": "e757e674",
   "metadata": {},
   "source": [
    "### AYAN CHOWDHURY\n",
    "##### FSDS 2.0\n",
    "\n",
    "**Assignment 15 Stacks and Queue**"
   ]
  },
  {
   "cell_type": "markdown",
   "id": "5afc074a",
   "metadata": {},
   "source": [
    "Question 1: Given an array arr[ ] of size N having elements, the task is to find the next greater element for each element of the array in order of their appearance in the array.Next greater element of an element in the array is the nearest element on the right which is greater than the current element.If there does not exist next greater of current element, then next greater element for current element is -1. For example, next greater of the last element is always -1."
   ]
  },
  {
   "cell_type": "code",
   "execution_count": 49,
   "id": "45ec9aed",
   "metadata": {},
   "outputs": [
    {
     "data": {
      "text/plain": [
       "[2, 3, 4, -1]"
      ]
     },
     "execution_count": 49,
     "metadata": {},
     "output_type": "execute_result"
    }
   ],
   "source": [
    "from collections import deque\n",
    "\n",
    "class stack:\n",
    "    def __init__(self):\n",
    "        self.data=deque()\n",
    "    \n",
    "    def push(self,data):\n",
    "        self.data.append(data)\n",
    "        \n",
    "    def findnext(self,n):\n",
    "        a=[]\n",
    "        i=1\n",
    "        strng=self.data\n",
    "        curr_strng=0\n",
    "        if strng[0]> strng[1]:\n",
    "            curr_strng=strng[0]\n",
    "            a.append(curr_strng)\n",
    "        else:\n",
    "            curr_strng=strng[1]\n",
    "            a.append(curr_strng)\n",
    "        for i in range(1,n):\n",
    "            if i==n-1:\n",
    "                a.append(-1)\n",
    "                \n",
    "            elif strng[i]>strng[i+1]:\n",
    "                a.append(strng[i])\n",
    "            elif strng[i]<strng[i+1]:\n",
    "                a.append(strng[i+1])\n",
    "            else:\n",
    "                a.append(-1)\n",
    "                \n",
    "        return a\n",
    "\n",
    "    \n",
    "S=stack()\n",
    "S.push(1)\n",
    "S.push(2)\n",
    "S.push(3)\n",
    "S.push(4)\n",
    "S.findnext(4)"
   ]
  },
  {
   "cell_type": "markdown",
   "id": "db452b1b",
   "metadata": {},
   "source": [
    "Question 2\n",
    "Given an array **a** of integers of length **n**, find the nearest smaller number for every element such that the smaller element is on left side.If no small element present on the left print -1.\n"
   ]
  },
  {
   "cell_type": "code",
   "execution_count": 50,
   "id": "1c267dc2",
   "metadata": {},
   "outputs": [
    {
     "name": "stdout",
     "output_type": "stream",
     "text": [
      "[-1, 3, -1, 2, 7, -1, 1]\n"
     ]
    }
   ],
   "source": [
    "def find_nearest_smaller_numbers(a):\n",
    "    n = len(a)\n",
    "    result = [-1] * n  \n",
    "    \n",
    "    stack = []  \n",
    "    \n",
    "    for i in range(n):\n",
    "        \n",
    "        while stack and a[stack[-1]] >= a[i]:\n",
    "            stack.pop()\n",
    "        \n",
    "        \n",
    "        if stack:\n",
    "            result[i] = a[stack[-1]]\n",
    "        \n",
    "        stack.append(i)  \n",
    "    \n",
    "    return result\n",
    "\n",
    "\n",
    "arr = [3, 5, 2, 7, 8, 1, 6]\n",
    "result = find_nearest_smaller_numbers(arr)\n",
    "print(result)\n"
   ]
  },
  {
   "cell_type": "markdown",
   "id": "c0ff7684",
   "metadata": {},
   "source": [
    "Question 3\n",
    "\n",
    "Implement a Stack using two queues **q1** and **q2**.\n",
    "\n",
    "</aside>"
   ]
  },
  {
   "cell_type": "code",
   "execution_count": 5,
   "id": "c993d981",
   "metadata": {},
   "outputs": [
    {
     "name": "stdout",
     "output_type": "stream",
     "text": [
      "[3, 4]\n"
     ]
    }
   ],
   "source": [
    "from collections import deque\n",
    "\n",
    "class stack:\n",
    "    def __init__(self):\n",
    "        self.data=deque()\n",
    "    \n",
    "    def push(self,data):\n",
    "        self.data.append(data)\n",
    "    def pop(self):\n",
    "        return self.data.pop()\n",
    "    def println(self):\n",
    "        return self.data\n",
    "\n",
    "s=stack()\n",
    "s.push(2)\n",
    "s.push(3)\n",
    "t1=s.pop()\n",
    "s.push(4)\n",
    "t2=s.pop()\n",
    "print([t1,t2])\n"
   ]
  },
  {
   "cell_type": "markdown",
   "id": "f08df69a",
   "metadata": {},
   "source": [
    "Question 4\n",
    "\n",
    "You are given a stack **St**. You have to reverse the stack using recursion.\n",
    "\n",
    "</aside>"
   ]
  },
  {
   "cell_type": "code",
   "execution_count": 9,
   "id": "f3867c8c",
   "metadata": {},
   "outputs": [
    {
     "data": {
      "text/plain": [
       "[5, 3, 2]"
      ]
     },
     "execution_count": 9,
     "metadata": {},
     "output_type": "execute_result"
    }
   ],
   "source": [
    "from collections import deque\n",
    "\n",
    "class stack:\n",
    "    def __init__(self):\n",
    "        self.data=deque()\n",
    "    \n",
    "    def push(self,data):\n",
    "        self.data.appendleft(data)\n",
    "    def println(self):\n",
    "        return list(self.data)\n",
    "\n",
    "s=stack()\n",
    "s.push(2)\n",
    "s.push(3)\n",
    "s.push(5)\n",
    "\n",
    "s.println()"
   ]
  },
  {
   "cell_type": "markdown",
   "id": "85852588",
   "metadata": {},
   "source": [
    "Question 5\n",
    "\n",
    "You are given a string **S**, the task is to reverse the string using stack.\n"
   ]
  },
  {
   "cell_type": "code",
   "execution_count": 10,
   "id": "01052d43",
   "metadata": {},
   "outputs": [
    {
     "name": "stdout",
     "output_type": "stream",
     "text": [
      "skeeGrofskeeG\n"
     ]
    }
   ],
   "source": [
    "def reverse_string(string):\n",
    "    stack = []\n",
    "    \n",
    "    for char in string:\n",
    "        stack.append(char)\n",
    "    \n",
    "    reversed_string = \"\"\n",
    "    \n",
    "    while stack:\n",
    "        reversed_string += stack.pop()\n",
    "    \n",
    "    return reversed_string\n",
    "\n",
    "s = \"GeeksforGeeks\"\n",
    "reversed_s = reverse_string(s)\n",
    "print(reversed_s)\n"
   ]
  },
  {
   "cell_type": "markdown",
   "id": "b4cef557",
   "metadata": {},
   "source": [
    "Question 6\n",
    "\n",
    "Given string **S** representing a postfix expression, the task is to evaluate the expression and find the final value. Operators will only include the basic arithmetic operators like ***, /, + and -**.\n",
    "\n",
    "</aside>"
   ]
  },
  {
   "cell_type": "code",
   "execution_count": 11,
   "id": "71c19680",
   "metadata": {},
   "outputs": [
    {
     "name": "stdout",
     "output_type": "stream",
     "text": [
      "8.75\n"
     ]
    }
   ],
   "source": [
    "def evaluateprefix(exp):\n",
    "    stack=[]\n",
    "    \n",
    "    for ch in exp:\n",
    "        if ch.isdigit():\n",
    "            stack.append(int(ch))\n",
    "        else:\n",
    "            operand2=stack.pop()\n",
    "            operand1=stack.pop()\n",
    "            \n",
    "            if ch=='+':\n",
    "                result=operand1 + operand2\n",
    "            elif ch=='-':\n",
    "                result=operand1 - operand2\n",
    "            elif ch=='*':\n",
    "                result=operand1 * operand2   \n",
    "            elif ch=='/':\n",
    "                result=operand1 / operand2\n",
    "                \n",
    "            stack.append(result)\n",
    "            \n",
    "    return stack.pop()\n",
    "\n",
    "exp = \"52+83-*4/\"\n",
    "result = evaluateprefix(exp)\n",
    "print(result)"
   ]
  },
  {
   "cell_type": "markdown",
   "id": "690acf7a",
   "metadata": {},
   "source": [
    "Question 7\n",
    "Design a stack that supports push, pop, top, and retrieving the minimum element in constant time.\n",
    "\n",
    "Implement the `MinStack` class:\n",
    "\n",
    "- `MinStack()` initializes the stack object.\n",
    "- `void push(int val)` pushes the element `val` onto the stack.\n",
    "- `void pop()` removes the element on the top of the stack.\n",
    "- `int top()` gets the top element of the stack.\n",
    "- `int getMin()` retrieves the minimum element in the stack.\n",
    "\n",
    "You must implement a solution with `O(1)` time complexity for each function."
   ]
  },
  {
   "cell_type": "code",
   "execution_count": 15,
   "id": "1f42585b",
   "metadata": {},
   "outputs": [
    {
     "data": {
      "text/plain": [
       "1"
      ]
     },
     "execution_count": 15,
     "metadata": {},
     "output_type": "execute_result"
    }
   ],
   "source": [
    "from collections import deque\n",
    "\n",
    "class MinStack:\n",
    "    def __init__(self):\n",
    "        self.data=deque()\n",
    "    def push(self,data):\n",
    "        self.data.append(data)\n",
    "    def pop(self):\n",
    "        self.data.pop()\n",
    "    def top(self):\n",
    "        return self.data[0]\n",
    "    def getmin(self):\n",
    "        return min(self.data)\n",
    "\n",
    "s=MinStack()\n",
    "s.push(2)\n",
    "s.push(1)\n",
    "s.push(5)\n",
    "s.pop()\n",
    "s.top()\n",
    "s.getmin()\n",
    "\n"
   ]
  },
  {
   "cell_type": "markdown",
   "id": "45bc5d7c",
   "metadata": {},
   "source": [
    "Question 8\n",
    "\n",
    "Given `n` non-negative integers representing an elevation map where the width of each bar is `1`, compute how much water it can trap after raining.\n"
   ]
  },
  {
   "cell_type": "code",
   "execution_count": 16,
   "id": "6ea6333d",
   "metadata": {},
   "outputs": [
    {
     "name": "stdout",
     "output_type": "stream",
     "text": [
      "6\n"
     ]
    }
   ],
   "source": [
    "def trap_water(elevation_map):\n",
    "    n = len(elevation_map)\n",
    "    \n",
    "    if n < 3:\n",
    "        return 0\n",
    "    \n",
    "    left = 0\n",
    "    right = n - 1\n",
    "    left_max = elevation_map[left]\n",
    "    right_max = elevation_map[right]\n",
    "    water = 0\n",
    "    \n",
    "    while left < right:\n",
    "        if elevation_map[left] <= elevation_map[right]:\n",
    "            left_max = max(left_max, elevation_map[left])\n",
    "            water += left_max - elevation_map[left]\n",
    "            left += 1\n",
    "        else:\n",
    "            right_max = max(right_max, elevation_map[right])\n",
    "            water += right_max - elevation_map[right]\n",
    "            right -= 1\n",
    "    \n",
    "    return water\n",
    "\n",
    "\n",
    "heights = [0, 1, 0, 2, 1, 0, 1, 3, 2, 1, 2, 1]\n",
    "water_trapped = trap_water(heights)\n",
    "print(water_trapped)\n"
   ]
  },
  {
   "cell_type": "code",
   "execution_count": null,
   "id": "fc7550e7",
   "metadata": {},
   "outputs": [],
   "source": []
  }
 ],
 "metadata": {
  "kernelspec": {
   "display_name": "Python 3 (ipykernel)",
   "language": "python",
   "name": "python3"
  },
  "language_info": {
   "codemirror_mode": {
    "name": "ipython",
    "version": 3
   },
   "file_extension": ".py",
   "mimetype": "text/x-python",
   "name": "python",
   "nbconvert_exporter": "python",
   "pygments_lexer": "ipython3",
   "version": "3.9.13"
  }
 },
 "nbformat": 4,
 "nbformat_minor": 5
}
