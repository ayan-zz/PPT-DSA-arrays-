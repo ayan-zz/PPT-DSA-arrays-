{
 "cells": [
  {
   "cell_type": "markdown",
   "id": "b2c67963",
   "metadata": {},
   "source": [
    "#### Assignment 04 DSA ARRAYS 2D\n",
    "\n",
    "#### AYAN CHOWDHURY\n",
    "###### FSDS 2.0"
   ]
  },
  {
   "cell_type": "markdown",
   "id": "7f5da439",
   "metadata": {},
   "source": [
    "#### Question 1\n",
    "Given three integer arrays arr1, arr2 and arr3 sorted in strictly increasing order, return a sorted array of only the integers that appeared in all three arrays."
   ]
  },
  {
   "cell_type": "code",
   "execution_count": 6,
   "id": "a8466307",
   "metadata": {},
   "outputs": [
    {
     "data": {
      "text/plain": [
       "[1, 4]"
      ]
     },
     "execution_count": 6,
     "metadata": {},
     "output_type": "execute_result"
    }
   ],
   "source": [
    "def find_limit(arr1,arr2,arr3):\n",
    "    a=[]\n",
    "   \n",
    "    for i in range(len(arr1)-1):\n",
    "        if arr1[0]==arr2[0] & arr1[0]==arr3[0]:\n",
    "            x1=arr1[0]\n",
    "            break\n",
    "    for j in range(len(arr1)-1):\n",
    "        if arr1[j]==arr2[j] & arr1[j]==arr3[j]:\n",
    "            j=j+1\n",
    "        elif arr1[0]!=arr2[0] & arr1[0]!=arr2[0]:\n",
    "            j=j+1\n",
    "        else:\n",
    "            x2=arr1[j-1]\n",
    "            \n",
    "    return [x1,x2]\n",
    "\n",
    "find_limit([1,2,3,4,6,8],[1,2,3,4,5,7],[1,2,3,4,8,9])"
   ]
  },
  {
   "cell_type": "markdown",
   "id": "a4f8609e",
   "metadata": {},
   "source": [
    "#### Question 2\n",
    "\n",
    "Given two 0-indexed integer arrays nums1 and nums2, return *a list* answer *of size* 2 *where:*\n",
    "- answer[0] *is a list of all **distinct** integers in* nums1 *which are **not** present in* nums2*.*\n",
    "- answer[1] *is a list of all **distinct** integers in* nums2 *which are **not** present in* nums1."
   ]
  },
  {
   "cell_type": "code",
   "execution_count": 92,
   "id": "59fb00bc",
   "metadata": {},
   "outputs": [
    {
     "data": {
      "text/plain": [
       "[[1, 3], [4, 6]]"
      ]
     },
     "execution_count": 92,
     "metadata": {},
     "output_type": "execute_result"
    }
   ],
   "source": [
    "def unique_nums(nums1,nums2):\n",
    "    x1=[]\n",
    "    x2=[]\n",
    "    for i in nums1:\n",
    "        if i not in nums2:\n",
    "            x1.append(i)\n",
    "        else:\n",
    "            pass\n",
    "       \n",
    "    for j in nums2:\n",
    "        if j not in nums1:\n",
    "            x2.append(j)\n",
    "        else:\n",
    "            pass\n",
    "        \n",
    "    \n",
    "    return [x1,x2]\n",
    "\n",
    "\n",
    "#output:\n",
    "unique_nums([1,2,3],[2,4,6])"
   ]
  },
  {
   "cell_type": "markdown",
   "id": "69f91318",
   "metadata": {},
   "source": [
    "#### Given a 2D integer array matrix, return *the **transpose** of* matrix.\n",
    "The **transpose** of a matrix is the matrix flipped over its main diagonal, switching the matrix's row and column indices.\n"
   ]
  },
  {
   "cell_type": "code",
   "execution_count": 117,
   "id": "a4f5e66b",
   "metadata": {},
   "outputs": [
    {
     "data": {
      "text/plain": [
       "[[1, 3], [2, 6]]"
      ]
     },
     "execution_count": 117,
     "metadata": {},
     "output_type": "execute_result"
    }
   ],
   "source": [
    "def transpose(matrix):\n",
    "    temp=[[0 for _ in range(len(matrix[0]))] for _ in range(len(matrix[1]))]\n",
    "    for i in range(len(matrix[0])):\n",
    "        for j in range(len(matrix[1])):\n",
    "            temp[i][j]=matrix[j][i]\n",
    "        \n",
    "    return temp\n",
    "\n",
    "transpose([[1,2],[3,6]])"
   ]
  },
  {
   "cell_type": "markdown",
   "id": "d0d03b3f",
   "metadata": {},
   "source": [
    "#### Question4\n",
    "Given an integer array nums of 2n integers, group these integers into n pairs (a1, b1), (a2, b2), ..., (an, bn) such that the sum of min(ai, bi) for all i is maximized. Return the maximized sum."
   ]
  },
  {
   "cell_type": "code",
   "execution_count": 151,
   "id": "3204cc1e",
   "metadata": {},
   "outputs": [
    {
     "data": {
      "text/plain": [
       "2"
      ]
     },
     "execution_count": 151,
     "metadata": {},
     "output_type": "execute_result"
    }
   ],
   "source": [
    "def find_minimum(matrix):\n",
    "    a=[]\n",
    "    x=[]\n",
    "    if len(matrix)%2==0:\n",
    "        for i in range(len(matrix)-1):\n",
    "            for j in range(i+1,len(matrix),1):\n",
    "                pair=[matrix[i],matrix[j]]\n",
    "                a.append(pair)\n",
    "                \n",
    "            i=i+1\n",
    "    else:\n",
    "        print('not applicable')\n",
    "        \n",
    "    for j in range(0,len(a)-1,2):\n",
    "        min1=min(a[j])+min(a[j+1])\n",
    "        x.append(min1)\n",
    "    \n",
    "    return min(x)\n",
    "        \n",
    "            \n",
    "find_minimum([1,2,4,5])         "
   ]
  },
  {
   "cell_type": "markdown",
   "id": "6eb35bf4",
   "metadata": {},
   "source": [
    "#### Question 5\n",
    "You have n coins and you want to build a staircase with these coins. The staircase consists of k rows where the ith row has exactly i coins. The last row of the staircase **may be** incomplete.\n",
    "\n",
    "Given the integer n, return *the number of **complete rows** of the staircase you will build*.\n",
    "\n",
    "</aside>"
   ]
  },
  {
   "cell_type": "code",
   "execution_count": 199,
   "id": "4cda4189",
   "metadata": {},
   "outputs": [
    {
     "data": {
      "text/plain": [
       "3"
      ]
     },
     "execution_count": 199,
     "metadata": {},
     "output_type": "execute_result"
    }
   ],
   "source": [
    "def staircase(nums):\n",
    "    elements=[]\n",
    "    p=[]\n",
    "    for i in range(nums):\n",
    "        elements.append(i+1)\n",
    "    \n",
    "    for j in range(len(elements)-1):\n",
    "        ret=0\n",
    "        if elements[j]<=(nums-(j+1)):\n",
    "            j=j+1\n",
    "        else:\n",
    "            ret=j-1\n",
    "            break\n",
    "        \n",
    "    return ret\n",
    "\n",
    "staircase(9)"
   ]
  },
  {
   "cell_type": "markdown",
   "id": "427a8591",
   "metadata": {},
   "source": [
    "#### Question 6\n",
    "Given an integer array nums sorted in non-decreasing order, return an array of the squares of each number sorted in non-decreasing order.\n"
   ]
  },
  {
   "cell_type": "code",
   "execution_count": 202,
   "id": "11e3cb48",
   "metadata": {},
   "outputs": [
    {
     "data": {
      "text/plain": [
       "[0, 1, 4, 9, 81, 100]"
      ]
     },
     "execution_count": 202,
     "metadata": {},
     "output_type": "execute_result"
    }
   ],
   "source": [
    "def squares(nums):\n",
    "    x=[]\n",
    "    for i in range(len(nums)):\n",
    "        sq=nums[i]*nums[i]\n",
    "        x.append(sq)\n",
    "    return sorted(x)\n",
    "\n",
    "\n",
    "squares([-1,0,2,3,9,10])"
   ]
  },
  {
   "cell_type": "markdown",
   "id": "1bab0fbc",
   "metadata": {},
   "source": [
    "#### Question 7 \n",
    "You are given an m x n matrix M initialized with all 0's and an array of operations ops, where ops[i] = [ai, bi] means M[x][y] should be incremented by one for all 0 <= x < ai and 0 <= y < bi.\n",
    "\n",
    "Count and return *the number of maximum integers in the matrix after performing all the operations*\n",
    "\n",
    "</aside>"
   ]
  },
  {
   "cell_type": "code",
   "execution_count": 203,
   "id": "99da3086",
   "metadata": {},
   "outputs": [
    {
     "data": {
      "text/plain": [
       "4"
      ]
     },
     "execution_count": 203,
     "metadata": {},
     "output_type": "execute_result"
    }
   ],
   "source": [
    "def max_integers(m, n, ops):\n",
    "    max_rows = m\n",
    "    max_cols = n\n",
    "\n",
    "    for op in ops:\n",
    "        ai, bi = op\n",
    "        max_rows = min(max_rows, ai)\n",
    "        max_cols = min(max_cols, bi)\n",
    "\n",
    "    return max_rows * max_cols\n",
    "\n",
    "max_integers(3,3, [[2,2],[3,3]])"
   ]
  },
  {
   "cell_type": "markdown",
   "id": "8614e0c0",
   "metadata": {},
   "source": [
    "#### Question 8\n",
    "\n",
    "Given the array nums consisting of 2n elements in the form [x1,x2,...,xn,y1,y2,...,yn].\n",
    "\n",
    "*Return the array in the form* [x1,y1,x2,y2,...,xn,yn].\n",
    "\n",
    "</aside>"
   ]
  },
  {
   "cell_type": "code",
   "execution_count": 213,
   "id": "ea525c0b",
   "metadata": {},
   "outputs": [
    {
     "data": {
      "text/plain": [
       "[1, 4, 5, 2, 3, 6]"
      ]
     },
     "execution_count": 213,
     "metadata": {},
     "output_type": "execute_result"
    }
   ],
   "source": [
    "def array_2n(nums,n):\n",
    "    x1=nums[:-n]\n",
    "    x2=nums[n:]\n",
    "    x=[]\n",
    "    xx=[]\n",
    "    m=2*n\n",
    "    for k in range(n):\n",
    "        x.append(x1[k])\n",
    "        x.append(x2[k])\n",
    "        k=k+1\n",
    "    return x\n",
    "\n",
    "\n",
    "array_2n([1,5,3,4,2,6],3)"
   ]
  },
  {
   "cell_type": "code",
   "execution_count": null,
   "id": "31f35a0a",
   "metadata": {},
   "outputs": [],
   "source": []
  }
 ],
 "metadata": {
  "kernelspec": {
   "display_name": "Python 3 (ipykernel)",
   "language": "python",
   "name": "python3"
  },
  "language_info": {
   "codemirror_mode": {
    "name": "ipython",
    "version": 3
   },
   "file_extension": ".py",
   "mimetype": "text/x-python",
   "name": "python",
   "nbconvert_exporter": "python",
   "pygments_lexer": "ipython3",
   "version": "3.9.13"
  }
 },
 "nbformat": 4,
 "nbformat_minor": 5
}
