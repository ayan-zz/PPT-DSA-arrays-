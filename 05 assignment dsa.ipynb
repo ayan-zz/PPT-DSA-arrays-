{
 "cells": [
  {
   "cell_type": "markdown",
   "id": "9f67aff2",
   "metadata": {},
   "source": [
    "#### Assignment 5.0\n",
    "\n",
    "###### Ayan Chowdhury\n",
    "###### FSDS 2.0"
   ]
  },
  {
   "cell_type": "markdown",
   "id": "0b9e3a43",
   "metadata": {},
   "source": [
    "#### Question 1**\n",
    "\n",
    "Convert 1D Array Into 2D Array\n",
    "\n",
    "You are given a **0-indexed** 1-dimensional (1D) integer array original, and two integers, m and n. You are tasked with creating a 2-dimensional (2D) array with  m rows and n columns using **all** the elements from original.\n",
    "\n",
    "</aside>"
   ]
  },
  {
   "cell_type": "code",
   "execution_count": 97,
   "id": "5515c9e8",
   "metadata": {},
   "outputs": [
    {
     "data": {
      "text/plain": [
       "[[2, 4, 6], [7, 8, 9]]"
      ]
     },
     "execution_count": 97,
     "metadata": {},
     "output_type": "execute_result"
    }
   ],
   "source": [
    "def convert_2d(nums,m,n):\n",
    "    x1=nums[:-m]\n",
    "    x2=nums[n:]\n",
    "    x=[x1,x2]\n",
    "    \n",
    "    return x\n",
    "\n",
    "\n",
    "convert_2d([2,4,6,7,8,9],3,3)\n",
    "        \n",
    "        "
   ]
  },
  {
   "cell_type": "markdown",
   "id": "840ed074",
   "metadata": {},
   "source": [
    "#### Question 2\n",
    "\n",
    "You have n coins and you want to build a staircase with these coins. The staircase consists of k rows where the ith row has exactly i coins. The last row of the staircase **may be** incomplete.\n",
    "\n",
    "Given the integer n, return *the number of **complete rows** of the staircase you will build*.\n",
    "\n",
    "</aside>"
   ]
  },
  {
   "cell_type": "code",
   "execution_count": 98,
   "id": "feefc646",
   "metadata": {},
   "outputs": [
    {
     "data": {
      "text/plain": [
       "3"
      ]
     },
     "execution_count": 98,
     "metadata": {},
     "output_type": "execute_result"
    }
   ],
   "source": [
    "def staircase(nums):\n",
    "    elements=[]\n",
    "    p=[]\n",
    "    for i in range(nums):\n",
    "        elements.append(i+1)\n",
    "    \n",
    "    for j in range(len(elements)-1):\n",
    "        ret=0\n",
    "        if elements[j]<=(nums-(j+1)):\n",
    "            j=j+1\n",
    "        else:\n",
    "            ret=j-1\n",
    "            break\n",
    "        \n",
    "    return ret\n",
    "\n",
    "#output\n",
    "staircase(9)"
   ]
  },
  {
   "cell_type": "markdown",
   "id": "abc44f97",
   "metadata": {},
   "source": [
    "#### Question 3\n",
    "\n",
    "Given an integer array nums sorted in **non-decreasing** order, return *an array of **the squares of each number** sorted in non-decreasing order*.\n",
    "\n",
    "</aside>"
   ]
  },
  {
   "cell_type": "code",
   "execution_count": 99,
   "id": "5ab229e0",
   "metadata": {},
   "outputs": [
    {
     "data": {
      "text/plain": [
       "[0, 1, 4, 9, 81, 100]"
      ]
     },
     "execution_count": 99,
     "metadata": {},
     "output_type": "execute_result"
    }
   ],
   "source": [
    "def squares(nums):\n",
    "    x=[]\n",
    "    for i in range(len(nums)):\n",
    "        sq=nums[i]*nums[i]\n",
    "        x.append(sq)\n",
    "    return sorted(x)\n",
    "\n",
    "#output\n",
    "squares([-1,0,2,3,9,10])"
   ]
  },
  {
   "cell_type": "markdown",
   "id": "a1c573ba",
   "metadata": {},
   "source": [
    "#### Question 4\n",
    "\n",
    "Given two **0-indexed** integer arrays nums1 and nums2, return *a list* answer *of size* 2 *where:*\n",
    "\n",
    "- answer[0] *is a list of all **distinct** integers in* nums1 *which are **not** present in* nums2*.*\n",
    "- answer[1] *is a list of all **distinct** integers in* nums2 *which are **not** present in* nums1.\n",
    "\n",
    "**Note** that the integers in the lists may be returned in **any** order\n",
    "\n",
    "</aside>"
   ]
  },
  {
   "cell_type": "code",
   "execution_count": 100,
   "id": "ab74cc65",
   "metadata": {},
   "outputs": [
    {
     "data": {
      "text/plain": [
       "[[1, 3], [4, 6]]"
      ]
     },
     "execution_count": 100,
     "metadata": {},
     "output_type": "execute_result"
    }
   ],
   "source": [
    "def unique_nums(nums1,nums2):\n",
    "    x1=[]\n",
    "    x2=[]\n",
    "    for i in nums1:\n",
    "        if i not in nums2:\n",
    "            x1.append(i)\n",
    "        else:\n",
    "            pass\n",
    "       \n",
    "    for j in nums2:\n",
    "        if j not in nums1:\n",
    "            x2.append(j)\n",
    "        else:\n",
    "            pass\n",
    "        \n",
    "    \n",
    "    return [x1,x2]\n",
    "\n",
    "\n",
    "#output:\n",
    "unique_nums([1,2,3],[2,4,6])"
   ]
  },
  {
   "cell_type": "markdown",
   "id": "6a4c32c8",
   "metadata": {},
   "source": [
    "#### Question 5\n",
    "\n",
    "Given two integer arrays arr1 and arr2, and the integer d, *return the distance value between the two arrays*.\n",
    "\n",
    "The distance value is defined as the number of elements arr1[i] such that there is not any element arr2[j] where |arr1[i]-arr2[j]| <= d.\n",
    "\n",
    "</aside>"
   ]
  },
  {
   "cell_type": "code",
   "execution_count": 101,
   "id": "2c8fd130",
   "metadata": {},
   "outputs": [
    {
     "data": {
      "text/plain": [
       "2"
      ]
     },
     "execution_count": 101,
     "metadata": {},
     "output_type": "execute_result"
    }
   ],
   "source": [
    "def distance(nums1,nums2,d):\n",
    "    a=[]\n",
    "    for i in range(len(nums1)):\n",
    "        for j in range(len(nums2)):\n",
    "            diff=nums1[i]-nums2[j]\n",
    "            ab_diff=abs(diff)\n",
    "            if ab_diff<d:\n",
    "                a.append(nums2[i])\n",
    "            elif ab_diff==d:\n",
    "                j=j+1\n",
    "            else:\n",
    "                j=j+1\n",
    "        i=i+1\n",
    "    return len(a)\n",
    " \n",
    "    \n",
    "    \n",
    "distance ([4,5,8],[10,9,1,8],2)"
   ]
  },
  {
   "cell_type": "markdown",
   "id": "f4644504",
   "metadata": {},
   "source": [
    "#### Question 6\n",
    "Given an integer array nums of length n where all the integers of nums are in the range [1, n] and each integer appears once or twice, return an array of all the integers that appears twice."
   ]
  },
  {
   "cell_type": "code",
   "execution_count": 102,
   "id": "b2e3ef47",
   "metadata": {},
   "outputs": [
    {
     "data": {
      "text/plain": [
       "[2, 3]"
      ]
     },
     "execution_count": 102,
     "metadata": {},
     "output_type": "execute_result"
    }
   ],
   "source": [
    "def findDuplicates(nums):\n",
    "    seen = set()\n",
    "    result = []\n",
    "    \n",
    "    for num in nums:\n",
    "        if num in seen:\n",
    "            result.append(num)\n",
    "        else:\n",
    "            seen.add(num)\n",
    "    \n",
    "    return result\n",
    "\n",
    "findDuplicates([5,2,2,3,4,3])"
   ]
  },
  {
   "cell_type": "markdown",
   "id": "ddf5670f",
   "metadata": {},
   "source": [
    "#### Question 7\n",
    "Suppose an array of length n sorted in ascending order is **rotated** between 1 and n times. For example, the array nums = [0,1,2,4,5,6,7] might become:\n",
    "\n",
    "- [4,5,6,7,0,1,2] if it was rotated 4 times.\n",
    "- [0,1,2,4,5,6,7] if it was rotated 7 times.\n",
    "\n",
    "Notice that **rotating** an array [a[0], a[1], a[2], ..., a[n-1]] 1 time results in the array [a[n-1], a[0], a[1], a[2], ..., a[n-2]].\n",
    "\n",
    "Given the sorted rotated array nums of **unique** elements, return *the minimum element of this array*."
   ]
  },
  {
   "cell_type": "code",
   "execution_count": 103,
   "id": "352b01c0",
   "metadata": {},
   "outputs": [
    {
     "data": {
      "text/plain": [
       "0"
      ]
     },
     "execution_count": 103,
     "metadata": {},
     "output_type": "execute_result"
    }
   ],
   "source": [
    "def reverseArray(nums, n):\n",
    "    for _ in range(n):\n",
    "        reverse(nums)\n",
    "    min_val = float('inf')\n",
    "    for num in nums:\n",
    "        if num < min_val:\n",
    "            min_val = num\n",
    "    return min_val\n",
    "\n",
    "def reverse(nums):\n",
    "    left = 0\n",
    "    right = len(nums) - 1\n",
    "    while left < right:\n",
    "        nums[left], nums[right] = nums[right], nums[left]\n",
    "        left += 1\n",
    "        right -= 1\n",
    "        \n",
    "#output\n",
    "reverseArray([2,0,8,5,4,9],3)"
   ]
  },
  {
   "cell_type": "markdown",
   "id": "5bf37380",
   "metadata": {},
   "source": [
    "#### Question 8\n",
    "\n",
    "An integer array original is transformed into a **doubled** array changed by appending **twice the value** of every element in original, and then randomly **shuffling** the resulting array.\n",
    "\n",
    "Given an array changed, return original *if* changed *is a **doubled** array. If* changed *is not a **doubled** array, return an empty array. The elements in* original *may be returned in **any** order*.\n",
    "\n",
    "</aside>"
   ]
  },
  {
   "cell_type": "code",
   "execution_count": 104,
   "id": "f701ca01",
   "metadata": {},
   "outputs": [
    {
     "data": {
      "text/plain": [
       "[5, 3, 4]"
      ]
     },
     "execution_count": 104,
     "metadata": {},
     "output_type": "execute_result"
    }
   ],
   "source": [
    "def findOriginal(nums):\n",
    "    a=[]\n",
    "    x=[]\n",
    "    for i in range(len(nums)-1):\n",
    "        \n",
    "        n=nums[i]*2\n",
    "        if n in nums:\n",
    "            a.append(nums[i])\n",
    "        else:\n",
    "            pass\n",
    " \n",
    "    return a  \n",
    "\n",
    "#output\n",
    "findOriginal([5,3,8,4,10,6])"
   ]
  }
 ],
 "metadata": {
  "kernelspec": {
   "display_name": "Python 3 (ipykernel)",
   "language": "python",
   "name": "python3"
  },
  "language_info": {
   "codemirror_mode": {
    "name": "ipython",
    "version": 3
   },
   "file_extension": ".py",
   "mimetype": "text/x-python",
   "name": "python",
   "nbconvert_exporter": "python",
   "pygments_lexer": "ipython3",
   "version": "3.9.13"
  }
 },
 "nbformat": 4,
 "nbformat_minor": 5
}
