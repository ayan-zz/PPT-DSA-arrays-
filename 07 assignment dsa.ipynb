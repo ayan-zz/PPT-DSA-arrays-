{
 "cells": [
  {
   "cell_type": "markdown",
   "id": "804fbeb5",
   "metadata": {},
   "source": [
    "### assignment 07 DSA PPT\n",
    "### Ayan Chowdhury\n",
    "FSDS 2.0\n"
   ]
  },
  {
   "cell_type": "markdown",
   "id": "50c0f459",
   "metadata": {},
   "source": [
    "Given a string num which represents an integer, return true *if* num *is a **strobogrammatic number***.\n",
    "\n",
    "A **strobogrammatic number** is a number that looks the same when rotated 180 degrees (looked at upside down)."
   ]
  },
  {
   "cell_type": "code",
   "execution_count": 6,
   "id": "012f5a93",
   "metadata": {},
   "outputs": [
    {
     "data": {
      "text/plain": [
       "True"
      ]
     },
     "execution_count": 6,
     "metadata": {},
     "output_type": "execute_result"
    }
   ],
   "source": [
    "def isometric(str1,str2):\n",
    "    charcount=dict()\n",
    "    c=0\n",
    "    for i in range(len(str1)):\n",
    "        if str1[i] in charcount:\n",
    "            c=charcount[str1[i]]\n",
    "            if c!=str2[i]:\n",
    "                return False\n",
    "            elif str2[i] not in charcount.values():\n",
    "                charcount[str1[i]]=str2[i]\n",
    "            else:\n",
    "                return False\n",
    "    return True\n",
    "isometric(\"rss\",\"egg\")"
   ]
  },
  {
   "cell_type": "markdown",
   "id": "142467d7",
   "metadata": {},
   "source": [
    "Question 2\n",
    "\n",
    "Given a string num which represents an integer, return true *if* num *is a **strobogrammatic number***.\n",
    "\n",
    "A **strobogrammatic number** is a number that looks the same when rotated 180 degrees (looked at upside down).\n",
    "\n",
    "\n",
    "</aside>"
   ]
  },
  {
   "cell_type": "code",
   "execution_count": 7,
   "id": "34d73172",
   "metadata": {},
   "outputs": [
    {
     "data": {
      "text/plain": [
       "True"
      ]
     },
     "execution_count": 7,
     "metadata": {},
     "output_type": "execute_result"
    }
   ],
   "source": [
    "def strobogrammatic(num):\n",
    "    smap = {'0': '0', '1': '1', '6': '9', '8': '8', '9': '6'}\n",
    "    left=0\n",
    "    right=len(num) - 1\n",
    "\n",
    "    while left <= right:\n",
    "        if num[left] not in smap or num[right] not in smap:\n",
    "            return False\n",
    "        if num[left] != smap[num[right]]:\n",
    "            return False\n",
    "        left += 1\n",
    "        right -= 1\n",
    "\n",
    "    return True\n",
    "strobogrammatic('69')"
   ]
  },
  {
   "cell_type": "markdown",
   "id": "d086b726",
   "metadata": {},
   "source": [
    "Question 3\n",
    "\n",
    "Given two non-negative integers, num1 and num2 represented as string, return *the sum of* num1 *and* num2 *as a string*.\n",
    "\n",
    "</aside>"
   ]
  },
  {
   "cell_type": "code",
   "execution_count": 17,
   "id": "fbd6a29a",
   "metadata": {},
   "outputs": [
    {
     "data": {
      "text/plain": [
       "135"
      ]
     },
     "execution_count": 17,
     "metadata": {},
     "output_type": "execute_result"
    }
   ],
   "source": [
    "def convert(num1,num2):\n",
    "    n=len(num1)\n",
    "    m=len(num2)\n",
    "    k=0\n",
    "    p=0\n",
    "    for i in range(n):\n",
    "        k=k*10+(ord(num1[i])-48)\n",
    "    for j in range(m):\n",
    "        p=p*10+(ord(num2[j])-48)\n",
    "        \n",
    "    summ=p+k\n",
    "    return summ\n",
    "\n",
    "#output\n",
    "convert(\"123\",\"12\")\n",
    "        "
   ]
  },
  {
   "cell_type": "markdown",
   "id": "cd0d6ffd",
   "metadata": {},
   "source": [
    "*Question 4\n",
    "\n",
    "Given a string s, reverse the order of characters in each word within a sentence while still preserving whitespace and initial word order.\n",
    "\n",
    "</aside>"
   ]
  },
  {
   "cell_type": "code",
   "execution_count": 32,
   "id": "b4800be5",
   "metadata": {},
   "outputs": [
    {
     "data": {
      "text/plain": [
       "\"s'teL od ti\""
      ]
     },
     "execution_count": 32,
     "metadata": {},
     "output_type": "execute_result"
    }
   ],
   "source": [
    "def enter_string(strg):\n",
    "    l=[]\n",
    "    \n",
    "    sp=strg.split(\" \")\n",
    "    for i in sp:\n",
    "        a=i[::-1]\n",
    "        l.append(a)\n",
    "    t=\" \".join(l)\n",
    "    return t\n",
    "    \n",
    "#output   \n",
    "enter_string(\"Let's do it\")"
   ]
  },
  {
   "cell_type": "markdown",
   "id": "65b5f684",
   "metadata": {},
   "source": [
    "Question 5\n",
    "\n",
    "Given a string s and an integer k, reverse the first k characters for every 2k characters counting from the start of the string.\n",
    "\n",
    "If there are fewer than k characters left, reverse all of them. If there are less than 2k but greater than or equal to k characters, then reverse the first k characters and leave the other as original."
   ]
  },
  {
   "cell_type": "code",
   "execution_count": 76,
   "id": "ce865f19",
   "metadata": {},
   "outputs": [
    {
     "data": {
      "text/plain": [
       "'saghdflt'"
      ]
     },
     "execution_count": 76,
     "metadata": {},
     "output_type": "execute_result"
    }
   ],
   "source": [
    "def inverse_str(strng,k):\n",
    "    l=[]\n",
    "    j=0\n",
    "    if len(strng)>=k:\n",
    "        for i in range(0,len(strng),k):\n",
    "            j=j+k\n",
    "            nm=strng[i:j]\n",
    "            t=nm[::-1]\n",
    "            l.append(t)\n",
    "            s=\"\".join(l)\n",
    "    else:\n",
    "        s=strng[::-1]\n",
    "        \n",
    "    return s\n",
    "    \n",
    "inverse_str(\"ashgfdtl\",2)"
   ]
  },
  {
   "cell_type": "markdown",
   "id": "1d4e98b9",
   "metadata": {},
   "source": [
    "Question 6\n",
    "Given two strings s and goal, return true *if and only if* s *can become* goal *after some number of **shifts** on* s.\n",
    "\n",
    "A **shift** on s consists of moving the leftmost character of s to the rightmost position.\n",
    "\n",
    "- For example, if s = \"abcde\", then it will be \"bcdea\" after one shift."
   ]
  },
  {
   "cell_type": "code",
   "execution_count": 86,
   "id": "48155680",
   "metadata": {},
   "outputs": [
    {
     "data": {
      "text/plain": [
       "True"
      ]
     },
     "execution_count": 86,
     "metadata": {},
     "output_type": "execute_result"
    }
   ],
   "source": [
    ".def shift(s, goal):\n",
    "    if len(s) != len(goal):\n",
    "        return False\n",
    "    concatenated = s + s\n",
    "    return goal in concatenated\n",
    "\n",
    "\n",
    "shift(\"abcde\",\"cdeab\")"
   ]
  },
  {
   "cell_type": "markdown",
   "id": "8b7b77c5",
   "metadata": {},
   "source": [
    "*Question 7\n",
    "\n",
    "Given two strings s and t, return true *if they are equal when both are typed into empty text editors*. '#' means a backspace character.\n",
    "\n",
    "Note that after backspacing an empty text, the text will continue empty.\n",
    "\n",
    "</aside>"
   ]
  },
  {
   "cell_type": "code",
   "execution_count": 89,
   "id": "c6199d11",
   "metadata": {},
   "outputs": [
    {
     "data": {
      "text/plain": [
       "True"
      ]
     },
     "execution_count": 89,
     "metadata": {},
     "output_type": "execute_result"
    }
   ],
   "source": [
    "def backspace_compare(s, t):\n",
    "    def process_string(string):\n",
    "        stack = []\n",
    "        for char in string:\n",
    "            if char != '#':\n",
    "                stack.append(char)\n",
    "            elif stack:\n",
    "                stack.pop()\n",
    "        return ''.join(stack)\n",
    "    \n",
    "    return process_string(s) == process_string(t)\n",
    "\n",
    "backspace_compare(\"ab#c\", \"ad#c\")\n"
   ]
  },
  {
   "cell_type": "markdown",
   "id": "765d71ae",
   "metadata": {},
   "source": [
    "You are given an array coordinates, coordinates[i] = [x, y], where [x, y] represents the coordinate of a point. Check if these points make a straight line in the XY plane."
   ]
  },
  {
   "cell_type": "code",
   "execution_count": 90,
   "id": "cf14c170",
   "metadata": {},
   "outputs": [
    {
     "data": {
      "text/plain": [
       "True"
      ]
     },
     "execution_count": 90,
     "metadata": {},
     "output_type": "execute_result"
    }
   ],
   "source": [
    "def straight_line(coordinates):\n",
    "    def calculate_slope(x1, y1, x2, y2):\n",
    "        if x2 - x1 == 0:\n",
    "            return float('inf')  \n",
    "        return (y2 - y1) / (x2 - x1)\n",
    "    \n",
    "   \n",
    "    x1, y1 = coordinates[0]\n",
    "    x2, y2 = coordinates[1]\n",
    "    reference_slope = calculate_slope(x1, y1, x2, y2)\n",
    "    for i in range(2, len(coordinates)):\n",
    "        x1, y1 = coordinates[i-1]\n",
    "        x2, y2 = coordinates[i]\n",
    "        current_slope = calculate_slope(x1, y1, x2, y2)\n",
    "        if current_slope != reference_slope:\n",
    "            return False\n",
    "    return True\n",
    "\n",
    "straight_line([[1,2],[2,3],[3,4],[4,5],[5,6],[6,7]])"
   ]
  },
  {
   "cell_type": "code",
   "execution_count": null,
   "id": "85c275da",
   "metadata": {},
   "outputs": [],
   "source": []
  }
 ],
 "metadata": {
  "kernelspec": {
   "display_name": "Python 3 (ipykernel)",
   "language": "python",
   "name": "python3"
  },
  "language_info": {
   "codemirror_mode": {
    "name": "ipython",
    "version": 3
   },
   "file_extension": ".py",
   "mimetype": "text/x-python",
   "name": "python",
   "nbconvert_exporter": "python",
   "pygments_lexer": "ipython3",
   "version": "3.9.13"
  }
 },
 "nbformat": 4,
 "nbformat_minor": 5
}
