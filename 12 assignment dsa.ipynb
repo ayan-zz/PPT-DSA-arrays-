{
 "cells": [
  {
   "cell_type": "markdown",
   "id": "e65589b8",
   "metadata": {},
   "source": [
    "### AYAN CHOWDHURY\n",
    "**ASSIGNMNET 12 DSA**\n",
    "\n",
    "***FSDS 2.0***"
   ]
  },
  {
   "cell_type": "markdown",
   "id": "87d66e6b",
   "metadata": {},
   "source": [
    "Question 1\n",
    "\n",
    "Given a singly linked list, delete **middle** of the linked list. For example, if given linked list is 1->2->**3**->4->5 then linked list should be modified to 1->2->4->5.If there are **even** nodes, then there would be **two middle** nodes, we need to delete the second middle element. For example, if given linked list is 1->2->3->4->5->6 then it should be modified to 1->2->3->5->6.If the input linked list is NULL or has 1 node, then it should return NULL\n",
    "\n"
   ]
  },
  {
   "cell_type": "code",
   "execution_count": 1,
   "id": "30d34de8",
   "metadata": {},
   "outputs": [
    {
     "name": "stdout",
     "output_type": "stream",
     "text": [
      "1 -> 2 -> 4 -> 5 -> None\n"
     ]
    }
   ],
   "source": [
    "class Node:\n",
    "    def __init__(self,data=0,next=None):\n",
    "        self.data=data\n",
    "        self.next=next\n",
    "\n",
    "def linkedlist(head):\n",
    "    slow=fast=head\n",
    "    while fast and fast.next:\n",
    "        slow=slow.next\n",
    "        fast=fast.next.next\n",
    "        \n",
    "    \n",
    "    slow.data = slow.next.data\n",
    "    slow.next = slow.next.next\n",
    "    return head\n",
    "\n",
    "def print_list(head):\n",
    "    curr=head\n",
    "    while curr:\n",
    "        \n",
    "        print(curr.data, end=\" -> \")\n",
    "        curr = curr.next\n",
    "    print(\"None\")    \n",
    "\n",
    "node5 = Node(5)\n",
    "node4 = Node(4, node5)\n",
    "node3 = Node(3, node4)\n",
    "node2 = Node(2, node3)\n",
    "node1 = Node(1, node2)\n",
    "\n",
    "# Find the middle element\n",
    "node1=linkedlist(node1)\n",
    "print_list(node1)"
   ]
  },
  {
   "cell_type": "markdown",
   "id": "37c9be04",
   "metadata": {},
   "source": [
    "Question 2: Given a linked list of N nodes. The task is to check if the linked list has a loop. Linked list can contain self loop."
   ]
  },
  {
   "cell_type": "code",
   "execution_count": 8,
   "id": "f9a345d2",
   "metadata": {},
   "outputs": [
    {
     "data": {
      "text/plain": [
       "True"
      ]
     },
     "execution_count": 8,
     "metadata": {},
     "output_type": "execute_result"
    }
   ],
   "source": [
    "class Node:\n",
    "    def __init__(self,val=0,next=None):\n",
    "        self.val=val\n",
    "        self.next=next\n",
    "\n",
    "def linkedlist(head):\n",
    "    slow=fast=head\n",
    "    while fast and fast.next:\n",
    "        slow=slow.next\n",
    "        fast=fast.next.next\n",
    "        \n",
    "        if slow==fast:\n",
    "            return True\n",
    "\n",
    "    return False\n",
    "\n",
    "\n",
    "node3 = Node(4)\n",
    "node2 = Node(3, node3)\n",
    "node1 = Node(1, node2)\n",
    "\n",
    "node3.next=node2\n",
    "\n",
    "linkedlist(node1)"
   ]
  },
  {
   "cell_type": "markdown",
   "id": "1a5d924a",
   "metadata": {},
   "source": [
    "Question 3: Given a linked list consisting of L nodes and given a number N. The task is to find the Nth node from the end of the linked list."
   ]
  },
  {
   "cell_type": "code",
   "execution_count": 20,
   "id": "a5cb118f",
   "metadata": {},
   "outputs": [
    {
     "name": "stdout",
     "output_type": "stream",
     "text": [
      "8\n"
     ]
    }
   ],
   "source": [
    "class Node:\n",
    "    def __init__(self,val=0,next=None):\n",
    "        self.val=val\n",
    "        self.next=next\n",
    "def print_list(head):\n",
    "    \n",
    "    curr=head  \n",
    "    print(curr.val)\n",
    "\n",
    "\n",
    "N=2\n",
    "n=9\n",
    "nodes = [Node(i) for i in range(n+1,1,-1)]\n",
    "for i in range(n - 1):\n",
    "    nodes[i].next = nodes[i + 1]\n",
    "\n",
    "\n",
    "print_list(nodes[N])"
   ]
  },
  {
   "cell_type": "markdown",
   "id": "d93d7260",
   "metadata": {},
   "source": [
    "Question 4\n",
    "\n",
    "Given a singly linked list of characters, write a function that returns true if the given list is a palindrome, else false.\n",
    "\n",
    "</aside>"
   ]
  },
  {
   "cell_type": "code",
   "execution_count": 52,
   "id": "8ab5b7c9",
   "metadata": {},
   "outputs": [
    {
     "data": {
      "text/plain": [
       "True"
      ]
     },
     "execution_count": 52,
     "metadata": {},
     "output_type": "execute_result"
    }
   ],
   "source": [
    "class Node:\n",
    "    def __init__(self,val=0,next=None):\n",
    "        self.val=val\n",
    "        self.next=next\n",
    "def print_list(head):\n",
    "    lt=[]\n",
    "    curr=head  \n",
    "    while curr:\n",
    "        \n",
    "        #print(curr.val,end='')\n",
    "        lt.append(curr.val)\n",
    "        curr=curr.next\n",
    "\n",
    "    lst1=lt[::-1]\n",
    "    if lt==lst1:\n",
    "        return True\n",
    "    else: \n",
    "        return False\n",
    "\n",
    "node3 = Node('A')\n",
    "node2 = Node('B', node3)\n",
    "node1 = Node('A', node2)\n",
    "\n",
    "# Find the middle element\n",
    "\n",
    "print_list(node1)\n"
   ]
  },
  {
   "cell_type": "markdown",
   "id": "17f16c5f",
   "metadata": {},
   "source": [
    "Question 5\n",
    "\n",
    "Given a linked list of **N** nodes such that it may contain a loop.\n",
    "\n",
    "A loop here means that the last node of the link list is connected to the node at position X(1-based index). If the link list does not have any loop, X=0.\n",
    "\n",
    "Remove the loop from the linked list, if it is present, i.e. unlink the last node which is forming the loop.\n",
    "\n",
    "</aside>"
   ]
  },
  {
   "cell_type": "code",
   "execution_count": 81,
   "id": "224c02fc",
   "metadata": {},
   "outputs": [
    {
     "name": "stdout",
     "output_type": "stream",
     "text": [
      "1 -> None\n"
     ]
    }
   ],
   "source": [
    "class Node:\n",
    "    def __init__(self,val=0,next=None):\n",
    "        self.val=val\n",
    "        self.next=next\n",
    "\n",
    "def linkedlist(head):\n",
    "    slow=fast=head\n",
    "    while fast and fast.next:\n",
    "        slow=slow.next\n",
    "        fast=fast.next.next\n",
    "\n",
    "        if slow==fast:\n",
    "            slow.next=None\n",
    "            curr=head\n",
    "            print(curr.val, end=\" -> \")\n",
    "            curr=curr.next\n",
    "            print(None)\n",
    "\n",
    "    return curr\n",
    "\n",
    "node3 = Node(4)\n",
    "node2 = Node(3, node3)\n",
    "node1 = Node(1, node2)\n",
    "\n",
    "node2.next=node1\n",
    "\n",
    "linkedlist(node1)"
   ]
  },
  {
   "cell_type": "markdown",
   "id": "101e223a",
   "metadata": {},
   "source": [
    "Question 6\n",
    "\n",
    "Given a linked list and two integers M and N. Traverse the linked list such that you retain M nodes then delete next N nodes, continue the same till end of the linked list.\n",
    "\n",
    "</aside>"
   ]
  },
  {
   "cell_type": "code",
   "execution_count": 90,
   "id": "4512eabb",
   "metadata": {},
   "outputs": [
    {
     "name": "stdout",
     "output_type": "stream",
     "text": [
      "Original Linked List:\n",
      "2 -> 3 -> 4 -> 5 -> 6 -> 7 -> 8 -> 9 -> 10 -> None\n",
      "Modified Linked List:\n",
      "2 -> 3 -> 6 -> 7 -> 10 -> None\n"
     ]
    }
   ],
   "source": [
    "class Node:\n",
    "    def __init__(self,val=0,next=None):\n",
    "        self.val=val\n",
    "        self.next=next\n",
    "\n",
    "def delete_nodes(head, M, N):\n",
    "    if M == 0:  \n",
    "        return None\n",
    "    curr=head\n",
    "    while curr:\n",
    "        for _ in range(M-1):\n",
    "            if curr.next:\n",
    "                curr=curr.next\n",
    "            else:\n",
    "                return head\n",
    "            \n",
    "        next_node=curr.next\n",
    "    \n",
    "        for _ in range(N-1):\n",
    "            if next_node.next:\n",
    "                next_node=next_node.next\n",
    "            else:\n",
    "                curr.next=next_node\n",
    "                curr=next_node\n",
    "                return head\n",
    "        curr.next=next_node\n",
    "        curr=next_node\n",
    "    return head\n",
    "        \n",
    "\n",
    "def print_linked_list(head):\n",
    "    curr = head\n",
    "    while curr:\n",
    "        print(curr.val, end=\" -> \")\n",
    "        curr = curr.next\n",
    "    print(\"None\")\n",
    "\n",
    "    \n",
    "nodes = [Node(i) for i in range(1, 11)]\n",
    "\n",
    "for i in range(len(nodes) - 1):\n",
    "    nodes[i].next = nodes[i + 1]\n",
    "\n",
    "\n",
    "M = 2\n",
    "N = 3\n",
    "\n",
    "print(\"Original Linked List:\")\n",
    "print_linked_list(nodes[1])\n",
    "\n",
    "new_head = delete_nodes(nodes[1], M, N)\n",
    "\n",
    "print(\"Modified Linked List:\")\n",
    "print_linked_list(new_head)"
   ]
  },
  {
   "cell_type": "markdown",
   "id": "201e4e2b",
   "metadata": {},
   "source": [
    "Question 7\n",
    "\n",
    "Given two linked lists, insert nodes of second list into first list at alternate positions of first list.\n",
    "\n",
    "</aside>"
   ]
  },
  {
   "cell_type": "code",
   "execution_count": 106,
   "id": "e13b6feb",
   "metadata": {},
   "outputs": [
    {
     "name": "stdout",
     "output_type": "stream",
     "text": [
      "Resultant Merge Linked List is : \n",
      "5 2 10 3 15 20 "
     ]
    }
   ],
   "source": [
    "class Node:\n",
    "    def __init__(self, key):\n",
    "        self.key = key\n",
    "        self.next = None\n",
    "         \n",
    "def newNode(key):\n",
    "    return Node(key)\n",
    "\n",
    "a = Node(5)\n",
    "a.next = Node(10)\n",
    "a.next.next = Node(15)\n",
    "a.next.next.next = Node(40)\n",
    "\n",
    "b = Node(2)\n",
    "b.next = Node(3)\n",
    "b.next.next = Node(20)\n",
    "\n",
    "v = []\n",
    "while(a and b is not None):\n",
    "    v.append(a.key)\n",
    "    v.append(b.key)    \n",
    "    a=a.next\n",
    "    b=b.next\n",
    "    \n",
    "\n",
    "result = Node(1)\n",
    "temp = result\n",
    "for i in range(len(v)):\n",
    "    result.next = Node(v[i])\n",
    "    result = result.next\n",
    "\n",
    "temp = temp.next\n",
    "print(\"Resultant Merge Linked List is : \")\n",
    "while(temp is not None):\n",
    "    print(temp.key, end=\" \")\n",
    "    temp = temp.next"
   ]
  },
  {
   "cell_type": "markdown",
   "id": "ace51631",
   "metadata": {},
   "source": [
    "Question 8\n",
    "\n",
    "Given a singly linked list, find if the linked list is [circular](https://www.geeksforgeeks.org/circular-linked-list/amp/) or not.\n",
    "\n",
    "</aside>"
   ]
  },
  {
   "cell_type": "code",
   "execution_count": 4,
   "id": "3668ef96",
   "metadata": {},
   "outputs": [
    {
     "data": {
      "text/plain": [
       "True"
      ]
     },
     "execution_count": 4,
     "metadata": {},
     "output_type": "execute_result"
    }
   ],
   "source": [
    "class Node:\n",
    "    def __init__(self,val=0,next=None):\n",
    "        self.val=val\n",
    "        self.next=next\n",
    "        \n",
    "def circular_link(head):\n",
    "    slow=fast=head\n",
    "    while fast and fast.next:\n",
    "        slow=slow.next\n",
    "        fast=fast.next.next\n",
    "        if slow==fast:\n",
    "            return True\n",
    "    return False\n",
    "\n",
    "    \n",
    "\n",
    "        \n",
    "node3 = Node(3)\n",
    "node2 = Node(5,node3)\n",
    "node1 = Node(9,node2)\n",
    "\n",
    "#node3.next=node1\n",
    "\n",
    "circular_link(node1)    "
   ]
  },
  {
   "cell_type": "code",
   "execution_count": null,
   "id": "f7f75bc4",
   "metadata": {},
   "outputs": [],
   "source": []
  }
 ],
 "metadata": {
  "kernelspec": {
   "display_name": "Python 3 (ipykernel)",
   "language": "python",
   "name": "python3"
  },
  "language_info": {
   "codemirror_mode": {
    "name": "ipython",
    "version": 3
   },
   "file_extension": ".py",
   "mimetype": "text/x-python",
   "name": "python",
   "nbconvert_exporter": "python",
   "pygments_lexer": "ipython3",
   "version": "3.9.13"
  }
 },
 "nbformat": 4,
 "nbformat_minor": 5
}
