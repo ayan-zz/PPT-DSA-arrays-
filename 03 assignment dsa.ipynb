{
 "cells": [
  {
   "cell_type": "markdown",
   "id": "ae8d84c0",
   "metadata": {},
   "source": [
    "### DSA--ASSIGNMENT 03\n",
    "Ayan Chowdhury\n",
    "FSDS 2.0"
   ]
  },
  {
   "cell_type": "markdown",
   "id": "7c7279c0",
   "metadata": {},
   "source": [
    "##### Question 1\n",
    "Given an integer array nums of length n and an integer target, find three integers\n",
    "in nums such that the sum is closest to the target.\n",
    "Return the sum of the three integers."
   ]
  },
  {
   "cell_type": "code",
   "execution_count": 112,
   "id": "52b2da23",
   "metadata": {},
   "outputs": [
    {
     "data": {
      "text/plain": [
       "5"
      ]
     },
     "execution_count": 112,
     "metadata": {},
     "output_type": "execute_result"
    }
   ],
   "source": [
    "\n",
    "def nearest_num(num,target):\n",
    "    a=[]\n",
    "    num=sorted(num)\n",
    "    for i in range(len(num)-2):\n",
    "        sm=num[i]+num[i+1]+num[i+2]\n",
    "        if sm>target:\n",
    "            a.append(sm)\n",
    "        for j in range(1,len(num)-1):\n",
    "            sm2=num[i]+num[j]+num[j+1]\n",
    "            if sm2>target:\n",
    "                a.append(sm2)\n",
    "        new_val=min(sorted(a))\n",
    "    return new_val\n",
    "\n",
    "#output\n",
    "nearest_num([2,4,5,1,2,7],2)"
   ]
  },
  {
   "cell_type": "markdown",
   "id": "230a5a88",
   "metadata": {},
   "source": [
    "#### Question 2\n",
    "Given an array nums of n integers, return an array of all the unique quadruplets\n",
    "[nums[a], nums[b], nums[c], nums[d]] such that:\n",
    "\n",
    "\n",
    "● 0 <= a, b, c, d < n\n",
    "\n",
    "● a, b, c, and d are distinct.\n",
    "\n",
    "● nums[a] + nums[b] + nums[c] + nums[d] == target"
   ]
  },
  {
   "cell_type": "code",
   "execution_count": 113,
   "id": "30790b16",
   "metadata": {},
   "outputs": [
    {
     "data": {
      "text/plain": [
       "[[2, 0, 0, -1], [2, -1, -2, 2], [0, -2, 2, 1]]"
      ]
     },
     "execution_count": 113,
     "metadata": {},
     "output_type": "execute_result"
    }
   ],
   "source": [
    "def target_sum(num,target):\n",
    "    a=[]\n",
    "    b=[]\n",
    "    x=[]\n",
    "    combinations=[]\n",
    "    for k in range(len(num)):\n",
    "        if num[k]!=0:\n",
    "            a.append(num[k])\n",
    "            l=set(a)\n",
    "            l=list(l)\n",
    "        else:\n",
    "            b.append(num[k])\n",
    "        nm=l+b\n",
    "    for i in range(len(nm)-1):\n",
    "        for j in range(len(nm)-1,1,-1):\n",
    "            sm=nm[i]+nm[j]+nm[j-1]+nm[j-2]\n",
    "            if sm==target:\n",
    "                y=[nm[i],nm[j],nm[j-1],nm[j-2]]\n",
    "                x.append(y)\n",
    "                j=j-1\n",
    "            else:\n",
    "                j=j+1\n",
    "        i=i+1\n",
    "    return x\n",
    "#output\n",
    "target_sum([1,-2,-1,0,0,2,-1],1)\n"
   ]
  },
  {
   "cell_type": "markdown",
   "id": "bee90bf9",
   "metadata": {},
   "source": [
    "#### Question 3\n",
    "A permutation of an array of integers is an arrangement of its members into a\n",
    "sequence or linear order.\n",
    "Given an array of integers nums, find the next permutation of nums.\n",
    "The replacement must be in place and use only constant extra memory."
   ]
  },
  {
   "cell_type": "code",
   "execution_count": 114,
   "id": "f990d797",
   "metadata": {
    "scrolled": true
   },
   "outputs": [
    {
     "data": {
      "text/plain": [
       "[8, 2, 6, 5, 1]"
      ]
     },
     "execution_count": 114,
     "metadata": {},
     "output_type": "execute_result"
    }
   ],
   "source": [
    "def lexo_permutation(nums):\n",
    "    nm=sorted(nums,reverse=True)\n",
    "    if nm!=nums:\n",
    "        for i in range(len(nums)-1,0,-1):\n",
    "            a=nums[len(nums)-1]\n",
    "            if a>nums[i-1]:\n",
    "                temp=nums[i-1]\n",
    "                nums[i-1]=a\n",
    "                nums[-1]=temp\n",
    "                x=nums\n",
    "                break\n",
    "            elif a<nums[i-1]:\n",
    "                i=i-1\n",
    "            elif a==nums[i-1]:\n",
    "                i=i-1\n",
    "    else:\n",
    "        x=sorted(nums)\n",
    "    \n",
    "    return x\n",
    "        \n",
    "lexo_permutation([8,1,6,5,2])            \n",
    "        "
   ]
  },
  {
   "cell_type": "markdown",
   "id": "7a6f3704",
   "metadata": {},
   "source": [
    "### Question 4\n",
    "Given a sorted array of distinct integers and a target value, return the index if the\n",
    "target is found. If not, return the index where it would be if it were inserted in\n",
    "order."
   ]
  },
  {
   "cell_type": "code",
   "execution_count": 115,
   "id": "fbbab3f4",
   "metadata": {},
   "outputs": [
    {
     "data": {
      "text/plain": [
       "2"
      ]
     },
     "execution_count": 115,
     "metadata": {},
     "output_type": "execute_result"
    }
   ],
   "source": [
    "def find_index(nums,target):\n",
    "    for i in range(len(nums)-1):\n",
    "        if nums[i]==target:\n",
    "            x=i\n",
    "            break\n",
    "        elif nums[i]!=target:\n",
    "            nums.append(target)\n",
    "            nums=sorted(nums)\n",
    "    return x\n",
    "\n",
    "\n",
    "find_index([1,2,4,5,6],3)"
   ]
  },
  {
   "cell_type": "markdown",
   "id": "6fb7338f",
   "metadata": {},
   "source": [
    "#### Question 5\n",
    "You are given a large integer represented as an integer array digits, where each\n",
    "digits[i] is the ith digit of the integer. The digits are ordered from most significant\n",
    "to least significant in left-to-right order. The large integer does not contain any\n",
    "leading 0's.\n",
    "Increment the large integer by one and return the resulting array of digits."
   ]
  },
  {
   "cell_type": "code",
   "execution_count": 116,
   "id": "bb1483e7",
   "metadata": {},
   "outputs": [
    {
     "data": {
      "text/plain": [
       "[1, 2, 4]"
      ]
     },
     "execution_count": 116,
     "metadata": {},
     "output_type": "execute_result"
    }
   ],
   "source": [
    "def increment(nums):\n",
    "    ax=str(nums)\n",
    "    a=[int(i) for i in ax]\n",
    "    nm=sorted(a)\n",
    "    nm[-1]=nm[-1]+1\n",
    "    return nm\n",
    "\n",
    "increment(123)"
   ]
  },
  {
   "cell_type": "markdown",
   "id": "032d6bca",
   "metadata": {},
   "source": [
    "#### Question 6\n",
    "Given a non-empty array of integers nums, every element appears twice except\n",
    "for one. Find that single one."
   ]
  },
  {
   "cell_type": "code",
   "execution_count": 117,
   "id": "4f01fb0c",
   "metadata": {},
   "outputs": [
    {
     "data": {
      "text/plain": [
       "3"
      ]
     },
     "execution_count": 117,
     "metadata": {},
     "output_type": "execute_result"
    }
   ],
   "source": [
    "def count_items(nums):\n",
    "    for i in range(len(nums)-1):\n",
    "        ax=nums.count(nums[i])\n",
    "        if ax==1:\n",
    "            number=nums[i]\n",
    "        else:\n",
    "            i=i+1\n",
    "    return number\n",
    "\n",
    "count_items([1,1,2,2,3,4,4,5,5,6,6])\n",
    "            "
   ]
  },
  {
   "cell_type": "markdown",
   "id": "876ab94f",
   "metadata": {},
   "source": [
    "#### Question 7\n",
    "You are given an inclusive range [lower, upper] and a sorted unique integer array\n",
    "nums, where all elements are within the inclusive range.\n",
    "A number x is considered missing if x is in the range [lower, upper] and x is not in\n",
    "nums.\n",
    "Return the shortest sorted list of ranges that exactly covers all the missing\n",
    "numbers. That is, no element of nums is included in any of the ranges, and each\n",
    "missing number is covered by one of the ranges."
   ]
  },
  {
   "cell_type": "code",
   "execution_count": 118,
   "id": "8f197cf6",
   "metadata": {},
   "outputs": [
    {
     "data": {
      "text/plain": [
       "[[2, 50], [50, 78], [78, 81], [0, 1], [81, 100]]"
      ]
     },
     "execution_count": 118,
     "metadata": {},
     "output_type": "execute_result"
    }
   ],
   "source": [
    "def find_missing(nums,lower,upper):\n",
    "    a=[]\n",
    "    n=len(nums)-1\n",
    "    for i in range(len(nums)-1):\n",
    "        if nums[i]!=lower:\n",
    "            a0=[lower,nums[0]]\n",
    "        else:\n",
    "            i=i+1\n",
    "    for j in range(1,len(nums)-1):\n",
    "        if nums[j]+1==nums[j+1]:\n",
    "            j=j+1\n",
    "        elif nums[j]==nums[j+1]:\n",
    "            j=j+1\n",
    "            pass\n",
    "        else:\n",
    "            a1=[nums[j],nums[j+1]]\n",
    "            a.append(a1)\n",
    "        if nums[n]!=upper:\n",
    "            an=[nums[n],upper]\n",
    "        else:\n",
    "            pass    \n",
    "    a.append(a0)\n",
    "    a.append(an)\n",
    "    return a\n",
    "\n",
    "\n",
    "find_missing([1,2,2,50,78,81],0,100)"
   ]
  },
  {
   "cell_type": "markdown",
   "id": "22527d8c",
   "metadata": {},
   "source": [
    "#### Question 8\n",
    "Given an array of meeting time intervals where intervals[i] = [starti, endi],\n",
    "determine if a person could attend all meetings."
   ]
  },
  {
   "cell_type": "code",
   "execution_count": 119,
   "id": "545aed59",
   "metadata": {},
   "outputs": [
    {
     "data": {
      "text/plain": [
       "False"
      ]
     },
     "execution_count": 119,
     "metadata": {},
     "output_type": "execute_result"
    }
   ],
   "source": [
    "def find_interval(nums):\n",
    "    for i in nums:\n",
    "        if i[0]==i[1]:\n",
    "            x=True\n",
    "           \n",
    "        else:\n",
    "            x=False\n",
    "\n",
    "    return x\n",
    "\n",
    "\n",
    "find_interval([[2,10],[5,9],[7,17]])"
   ]
  },
  {
   "cell_type": "code",
   "execution_count": null,
   "id": "c153a540",
   "metadata": {},
   "outputs": [],
   "source": []
  }
 ],
 "metadata": {
  "kernelspec": {
   "display_name": "Python 3 (ipykernel)",
   "language": "python",
   "name": "python3"
  },
  "language_info": {
   "codemirror_mode": {
    "name": "ipython",
    "version": 3
   },
   "file_extension": ".py",
   "mimetype": "text/x-python",
   "name": "python",
   "nbconvert_exporter": "python",
   "pygments_lexer": "ipython3",
   "version": "3.9.13"
  }
 },
 "nbformat": 4,
 "nbformat_minor": 5
}
