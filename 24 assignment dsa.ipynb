{
 "cells": [
  {
   "cell_type": "markdown",
   "id": "c527fd07",
   "metadata": {},
   "source": [
    "#### Assignment 24 DSA\n",
    "\n",
    "**AYAN CHOWDHURY**\n",
    "\n",
    "**FSDS2.0**"
   ]
  },
  {
   "cell_type": "markdown",
   "id": "be3629d1",
   "metadata": {},
   "source": [
    "1. Roman to Integer"
   ]
  },
  {
   "cell_type": "code",
   "execution_count": 11,
   "id": "32636434",
   "metadata": {},
   "outputs": [
    {
     "data": {
      "text/plain": [
       "22"
      ]
     },
     "execution_count": 11,
     "metadata": {},
     "output_type": "execute_result"
    }
   ],
   "source": [
    "def romantointeger(roman):\n",
    "    l1=['I','V','X','L','C','D','M']\n",
    "    dict={'I':1,'V': 5,'X': 10,'L': 50,'C': 100,'D': 500,'M': 1000}\n",
    "    l2=list(roman)\n",
    "    n=len(l1)\n",
    "    a=0\n",
    "    if n>=1 and n<=15:\n",
    "        for i in range(len(l2)):\n",
    "            if l2[i] in l1:\n",
    "                s=dict[l2[i]]\n",
    "                a=a+s\n",
    "    else:\n",
    "        print('not proper format')\n",
    "        \n",
    "    return a\n",
    "\n",
    "romantointeger('XXII')"
   ]
  },
  {
   "cell_type": "markdown",
   "id": "9c764f80",
   "metadata": {},
   "source": [
    "2. Longest Substring Without Repeating Characters"
   ]
  },
  {
   "cell_type": "code",
   "execution_count": 1,
   "id": "660b2c99",
   "metadata": {},
   "outputs": [
    {
     "data": {
      "text/plain": [
       "'sght'"
      ]
     },
     "execution_count": 1,
     "metadata": {},
     "output_type": "execute_result"
    }
   ],
   "source": [
    "def longestsubstring(s):\n",
    "    n = len(s)\n",
    "    if n < 2:\n",
    "        return s\n",
    "\n",
    "    seen = {}\n",
    "    start = 0  \n",
    "    longest = 0  \n",
    "    longest2 = 0  \n",
    "\n",
    "    for i in range(n):\n",
    "        char = s[i]\n",
    "\n",
    "        if char in seen and seen[char] >= start:\n",
    "            start = seen[char] + 1  \n",
    "        seen[char] = i  \n",
    "        \n",
    "        if i - start + 1 > longest:\n",
    "            longest = i - start + 1\n",
    "            longest2 = start\n",
    "\n",
    "    return s[longest2:longest2 + longest]\n",
    "\n",
    "\n",
    "longestsubstring('ssghtss')"
   ]
  },
  {
   "cell_type": "markdown",
   "id": "a501088f",
   "metadata": {},
   "source": [
    "3. Majority Element"
   ]
  },
  {
   "cell_type": "code",
   "execution_count": 30,
   "id": "14201e67",
   "metadata": {},
   "outputs": [
    {
     "data": {
      "text/plain": [
       "3"
      ]
     },
     "execution_count": 30,
     "metadata": {},
     "output_type": "execute_result"
    }
   ],
   "source": [
    "def occurances(lst):\n",
    "    n=len(lst)\n",
    "    dict={}\n",
    "    \n",
    "    for i in lst:\n",
    "        if i in dict:\n",
    "            dict[i]+=1\n",
    "        else:\n",
    "            dict[i]=1\n",
    "    mn=max(dict.values())\n",
    "    key = [k for k, v in dict.items() if v==mn][0]\n",
    "    return key\n",
    "\n",
    "occurances([1,2,2,3,3,3,4,8,8])"
   ]
  },
  {
   "cell_type": "code",
   "execution_count": 281,
   "id": "2cb61e86",
   "metadata": {},
   "outputs": [
    {
     "data": {
      "text/plain": [
       "[['abc'], ['ght', 'htg', 'gth'], ['def']]"
      ]
     },
     "execution_count": 281,
     "metadata": {},
     "output_type": "execute_result"
    }
   ],
   "source": [
    "def anagram(lst):\n",
    "    \n",
    "    group1={}\n",
    "\n",
    "    for j in lst:\n",
    "        sorted_strng=''.join(sorted(j))\n",
    "        \n",
    "        if sorted_strng in group1:\n",
    "            group1[sorted_strng].append(j)\n",
    "        else:\n",
    "            group1[sorted_strng]=[j]\n",
    "            \n",
    "    return list(group1.values())\n",
    "    \n",
    "    \n",
    "anagram(['abc','ght','htg', 'gth','def'])"
   ]
  },
  {
   "cell_type": "markdown",
   "id": "7bd0c3db",
   "metadata": {},
   "source": [
    "5.Ugly Numbers\n",
    "\n",
    "An **ugly number** is a positive integer whose prime factors are limited to `2`, `3`, and `5`.\n",
    "\n",
    "Given an integer `n`, return *the* `nth` ***ugly number***.\n",
    "\n",
    "</aside>"
   ]
  },
  {
   "cell_type": "code",
   "execution_count": 311,
   "id": "8bc4c9c5",
   "metadata": {},
   "outputs": [
    {
     "data": {
      "text/plain": [
       "[1, 2, 3, 4, 5, 6, 8, 9, 10, 12, 14]"
      ]
     },
     "execution_count": 311,
     "metadata": {},
     "output_type": "execute_result"
    }
   ],
   "source": [
    "def uglynumbers(n):\n",
    "    if n==1:\n",
    "        return 1\n",
    "    else:\n",
    "        lst1=[2,3,5]\n",
    "        a=[1]\n",
    "        ln=0\n",
    "        i=2\n",
    "        while ln>=0:\n",
    "            ln=ln+1\n",
    "            for k in range(0,len(lst1)):\n",
    "                l=len(a)\n",
    "                if i%lst1[k]==0 and l<n:\n",
    "                    a.append(i)\n",
    "                    break\n",
    "                else:\n",
    "                    k=k+1\n",
    "            i=i+1\n",
    "            if ln>n:\n",
    "                break   \n",
    "\n",
    "    return a\n",
    "            \n",
    "uglynumbers(12)"
   ]
  },
  {
   "cell_type": "markdown",
   "id": "1af9e427",
   "metadata": {},
   "source": [
    "6. Top K Frequent Words"
   ]
  },
  {
   "cell_type": "code",
   "execution_count": 341,
   "id": "dca53898",
   "metadata": {},
   "outputs": [
    {
     "name": "stdout",
     "output_type": "stream",
     "text": [
      "{'i': 2, 'love': 2, 'leetcode': 1, 'coding': 1}\n"
     ]
    },
    {
     "data": {
      "text/plain": [
       "['i', 'love']"
      ]
     },
     "execution_count": 341,
     "metadata": {},
     "output_type": "execute_result"
    }
   ],
   "source": [
    "def topfrequentwords(string,k):\n",
    "    lst1=[x.lower() for x in string]\n",
    "    words={}\n",
    "    for i in lst1:\n",
    "        if i in words:\n",
    "            words[i]+=1\n",
    "        else:\n",
    "            words[i]=1\n",
    "            \n",
    "    sorted_dict=dict(sorted(words.items(), reverse=True,key=lambda x:x[1]))\n",
    "    print(sorted_dict)\n",
    "    key=[k for k, v in sorted_dict.items()][:k]\n",
    "    \n",
    "    return key\n",
    "\n",
    "\n",
    "topfrequentwords([\"i\",\"love\",\"leetcode\",\"i\",\"love\",\"coding\"],2)\n",
    "            \n",
    "                "
   ]
  },
  {
   "cell_type": "markdown",
   "id": "6d8209e9",
   "metadata": {},
   "source": [
    "7. Sliding Window Maximum"
   ]
  },
  {
   "cell_type": "code",
   "execution_count": 387,
   "id": "a3cf6c74",
   "metadata": {},
   "outputs": [
    {
     "data": {
      "text/plain": [
       "[3, 3, 5, 5, 6, 7]"
      ]
     },
     "execution_count": 387,
     "metadata": {},
     "output_type": "execute_result"
    }
   ],
   "source": [
    "def slidingwindow(nums,n):\n",
    "    a=[]\n",
    "    l=[]\n",
    "    i=0\n",
    "    ln=len(nums)\n",
    "    for i in range(0,ln-(n-1)):\n",
    "        k=l1[i:i+3]\n",
    "        i=i+1\n",
    "        a.append(k)\n",
    "    #print(a)\n",
    "    for j in a:\n",
    "        mn=max(j)\n",
    "        l.append(mn)\n",
    "    return l\n",
    "\n",
    "slidingwindow([1,3,-1,-3,5,3,6,7],3)"
   ]
  },
  {
   "cell_type": "markdown",
   "id": "e11c1766",
   "metadata": {},
   "source": [
    "8. Find K Closest Elements"
   ]
  },
  {
   "cell_type": "code",
   "execution_count": 390,
   "id": "18111bd3",
   "metadata": {},
   "outputs": [
    {
     "data": {
      "text/plain": [
       "[1, 2, 3]"
      ]
     },
     "execution_count": 390,
     "metadata": {},
     "output_type": "execute_result"
    }
   ],
   "source": [
    "def closestelement(nums,k,x):\n",
    "    \n",
    "    left=0\n",
    "    right=len(nums)-1\n",
    "    while (right-left+1)>k:\n",
    "        \n",
    "        left_set=abs(nums[left]-x)\n",
    "        right_set=abs(nums[right]-x)\n",
    "        \n",
    "        if left_set>right_set:\n",
    "            left+=1\n",
    "        else:\n",
    "            right-=1\n",
    "            \n",
    "    return nums[left:right]\n",
    "\n",
    "closestelement([1,2,3,4,5],4,3)"
   ]
  },
  {
   "cell_type": "code",
   "execution_count": null,
   "id": "3de9bc56",
   "metadata": {},
   "outputs": [],
   "source": []
  }
 ],
 "metadata": {
  "kernelspec": {
   "display_name": "Python 3 (ipykernel)",
   "language": "python",
   "name": "python3"
  },
  "language_info": {
   "codemirror_mode": {
    "name": "ipython",
    "version": 3
   },
   "file_extension": ".py",
   "mimetype": "text/x-python",
   "name": "python",
   "nbconvert_exporter": "python",
   "pygments_lexer": "ipython3",
   "version": "3.9.13"
  }
 },
 "nbformat": 4,
 "nbformat_minor": 5
}
