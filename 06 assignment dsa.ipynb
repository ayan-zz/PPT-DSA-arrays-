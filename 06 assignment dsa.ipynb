{
 "cells": [
  {
   "cell_type": "markdown",
   "id": "1d8e7a4f",
   "metadata": {},
   "source": [
    "#### Assignment 06 DSA\n",
    "##### AYAN CHOWDHURY\n",
    "###### FSDS2.0"
   ]
  },
  {
   "cell_type": "markdown",
   "id": "b7bf7e3e",
   "metadata": {},
   "source": [
    "#### Question 1\n",
    "A permutation perm of n + 1 integers of all the integers in the range [0, n] can be represented as a string s of length n where:\n",
    "\n",
    "- s[i] == 'I' if perm[i] < perm[i + 1], and\n",
    "- s[i] == 'D' if perm[i] > perm[i + 1].\n",
    "\n",
    "Given a string s, reconstruct the permutation perm and return it. If there are multiple valid permutations perm, return **any of them**."
   ]
  },
  {
   "cell_type": "code",
   "execution_count": 1,
   "id": "ce1c2a82",
   "metadata": {},
   "outputs": [
    {
     "data": {
      "text/plain": [
       "[0, 4, 1, 3, 2]"
      ]
     },
     "execution_count": 1,
     "metadata": {},
     "output_type": "execute_result"
    }
   ],
   "source": [
    "def permutations(nums):\n",
    "    n=len(nums)\n",
    "    low=0\n",
    "    high=n\n",
    "    a=[]\n",
    "    for i in nums:\n",
    "        if i=='I':\n",
    "            a.append(low)\n",
    "            low+=1\n",
    "        else:\n",
    "            a.append(high)\n",
    "            high-=1\n",
    "            \n",
    "    a.append(low)\n",
    "    return a\n",
    "\n",
    "\n",
    "permutations(\"IDID\")"
   ]
  },
  {
   "cell_type": "markdown",
   "id": "5157035d",
   "metadata": {},
   "source": [
    "#### Question 2\n",
    "You are given an m x n integer matrix matrix with the following two properties:\n",
    "\n",
    "- Each row is sorted in non-decreasing order.\n",
    "- The first integer of each row is greater than the last integer of the previous row.\n",
    "\n",
    "Given an integer target, return true *if* target *is in* matrix *or* false *otherwise*.\n",
    "\n",
    "You must write a solution in O(log(m * n)) time complexity."
   ]
  },
  {
   "cell_type": "code",
   "execution_count": 2,
   "id": "b4e39156",
   "metadata": {},
   "outputs": [
    {
     "name": "stdout",
     "output_type": "stream",
     "text": [
      "False\n"
     ]
    }
   ],
   "source": [
    "def find_target(matrix,target):\n",
    "    row=len(matrix)\n",
    "    for i in range(row):\n",
    "        if target in matrix[i]:\n",
    "            print(True)\n",
    "            break\n",
    "        else:\n",
    "            print(False)\n",
    "            break\n",
    "    return \n",
    "\n",
    "find_target([[1,2,4],[5,4,8],[4,3,1]],9)"
   ]
  },
  {
   "cell_type": "markdown",
   "id": "7cbe8d3e",
   "metadata": {},
   "source": [
    "#### Question 3\n",
    "\n",
    "Given an array of integers arr, return *true if and only if it is a valid mountain array*.\n",
    "\n",
    "Recall that arr is a mountain array if and only if:\n",
    "\n",
    "- arr.length >= 3\n",
    "- There exists some i with 0 < i < arr.length - 1 such that:\n",
    "    - arr[0] < arr[1] < ... < arr[i - 1] < arr[i]\n",
    "    - arr[i] > arr[i + 1] > ... > arr[arr.length - 1]\n",
    "</aside>"
   ]
  },
  {
   "cell_type": "code",
   "execution_count": 3,
   "id": "026b75ae",
   "metadata": {},
   "outputs": [
    {
     "name": "stdout",
     "output_type": "stream",
     "text": [
      "True\n"
     ]
    }
   ],
   "source": [
    "def mountain_array(arr):\n",
    "    if len(arr)>=3:\n",
    "        n=len(arr)-1\n",
    "        mid=n//2\n",
    "        for i in range(mid):\n",
    "            if (arr[i]<=arr[i+1]) and (arr[n-i]<=arr[n-(i+1)]):\n",
    "                print(True)\n",
    "                break\n",
    "            else:\n",
    "                print(False)\n",
    "                break\n",
    "        else:\n",
    "            print('not applicable')\n",
    "    return\n",
    "\n",
    "mountain_array([0,1,7,8,10,8,2])"
   ]
  },
  {
   "cell_type": "markdown",
   "id": "cd75f847",
   "metadata": {},
   "source": [
    "#### Question 4**\n",
    "\n",
    "Given a binary array nums, return *the maximum length of a contiguous subarray with an equal number of* 0 *and* 1.\n"
   ]
  },
  {
   "cell_type": "code",
   "execution_count": 4,
   "id": "4f731e81",
   "metadata": {},
   "outputs": [
    {
     "data": {
      "text/plain": [
       "3"
      ]
     },
     "execution_count": 4,
     "metadata": {},
     "output_type": "execute_result"
    }
   ],
   "source": [
    "def binary_arr(arr):\n",
    "    a=[]\n",
    "    b=[]\n",
    "    for i in range(len(arr)-1):\n",
    "        if arr[i]==0:\n",
    "            a.append(arr[i])\n",
    "        elif arr[i]==1:\n",
    "            b.append(arr[i])\n",
    "    x1=len(a)\n",
    "    x2=len(b)\n",
    "    subarray=min(x1,x2)\n",
    "    \n",
    "    return subarray\n",
    "\n",
    "binary_arr([1,0,1,1,0,0,1])"
   ]
  },
  {
   "cell_type": "markdown",
   "id": "9cf5fd3d",
   "metadata": {},
   "source": [
    "#### *Question 5\n",
    "\n",
    "The **product sum** of two equal-length arrays a and b is equal to the sum of a[i] * b[i] for all 0 <= i < a.length (**0-indexed**).\n",
    "\n",
    "- For example, if a = [1,2,3,4] and b = [5,2,3,1], the **product sum** would be 1*5 + 2*2 + 3*3 + 4*1 = 22.\n",
    "\n",
    "Given two arrays nums1 and nums2 of length n, return *the **minimum product sum** if you are allowed to **rearrange** the **order** of the elements in* nums1.\n"
   ]
  },
  {
   "cell_type": "code",
   "execution_count": 5,
   "id": "82d2fdfb",
   "metadata": {},
   "outputs": [
    {
     "name": "stdout",
     "output_type": "stream",
     "text": [
      "21\n"
     ]
    }
   ],
   "source": [
    "\n",
    "def min_product_sum(nums1, nums2):\n",
    "    nums1.sort()\n",
    "    nums2.sort()\n",
    "    n = len(nums1)\n",
    "    min_product_sum = 0\n",
    "\n",
    "    for i in range(n):\n",
    "        min_product_sum += nums1[i] * nums2[n - i - 1]\n",
    "\n",
    "    return min_product_sum\n",
    "\n",
    "#output\n",
    "nums1 = [1, 2, 3, 4]\n",
    "nums2 = [5, 2, 3, 1]\n",
    "result = min_product_sum(nums1, nums2)\n",
    "print(result)"
   ]
  },
  {
   "cell_type": "markdown",
   "id": "3fcb34ab",
   "metadata": {},
   "source": [
    "##### Question 6\n",
    "An integer array original is transformed into a **doubled** array changed by appending **twice the value** of every element in original, and then randomly **shuffling** the resulting array.\n",
    "\n",
    "Given an array changed, return original *if* changed *is a **doubled** array. If* changed *is not a **doubled** array, return an empty array. The elements in* original *may be returned in **any** order*."
   ]
  },
  {
   "cell_type": "code",
   "execution_count": 6,
   "id": "c22f10c9",
   "metadata": {},
   "outputs": [
    {
     "data": {
      "text/plain": [
       "[5, 3, 4]"
      ]
     },
     "execution_count": 6,
     "metadata": {},
     "output_type": "execute_result"
    }
   ],
   "source": [
    "def findOriginal(nums):\n",
    "    a=[]\n",
    "    x=[]\n",
    "    for i in range(len(nums)-1):\n",
    "        \n",
    "        n=nums[i]*2\n",
    "        if n in nums:\n",
    "            a.append(nums[i])\n",
    "        else:\n",
    "            pass\n",
    " \n",
    "    return a  \n",
    "\n",
    "#output\n",
    "findOriginal([5,3,8,4,10,6])"
   ]
  },
  {
   "cell_type": "markdown",
   "id": "fcf36283",
   "metadata": {},
   "source": [
    "#### Question 7\n",
    "\n",
    "Given a positive integer n, generate an n x n matrix filled with elements from 1 to n2 in spiral order."
   ]
  },
  {
   "cell_type": "code",
   "execution_count": 7,
   "id": "e0ec8ce6",
   "metadata": {},
   "outputs": [
    {
     "name": "stdout",
     "output_type": "stream",
     "text": [
      "Enter the value of n: 3\n"
     ]
    },
    {
     "data": {
      "text/plain": [
       "[[1, 2, 3], [8, 9, 4], [7, 6, 5]]"
      ]
     },
     "execution_count": 7,
     "metadata": {},
     "output_type": "execute_result"
    }
   ],
   "source": [
    "def generate_spiral_matrix(n):\n",
    "    matrix = [[0] * n for _ in range(n)] \n",
    "\n",
    "    num = 1 \n",
    "    left, right = 0, n - 1  \n",
    "    up, down = 0, n - 1 \n",
    "\n",
    "    while num <= n**2:\n",
    "        \n",
    "        for col in range(up, down + 1):\n",
    "            matrix[left][col] = num\n",
    "            num += 1\n",
    "        left += 1\n",
    "\n",
    "       \n",
    "        for row in range(left, right + 1):\n",
    "            matrix[row][down] = num\n",
    "            num += 1\n",
    "        down -= 1\n",
    "\n",
    "        \n",
    "        for col in range(down, up - 1, -1):\n",
    "            matrix[right][col] = num\n",
    "            num += 1\n",
    "        right -= 1\n",
    "\n",
    "        \n",
    "        for row in range(right, left - 1, -1):\n",
    "            matrix[row][up] = num\n",
    "            num += 1\n",
    "        up += 1\n",
    "\n",
    "    return matrix\n",
    "\n",
    "# output\n",
    "n = int(input(\"Enter the value of n: \"))\n",
    "generate_spiral_matrix(n)"
   ]
  },
  {
   "cell_type": "markdown",
   "id": "e8ae94b3",
   "metadata": {},
   "source": [
    "#### Question 8**\n",
    "\n",
    "Given two [sparse matrices](https://en.wikipedia.org/wiki/Sparse_matrix) mat1 of size m x k and mat2 of size k x n, return the result of mat1 x mat2. You may assume that multiplication is always possible.\n",
    "\n",
    "</aside>"
   ]
  },
  {
   "cell_type": "code",
   "execution_count": 8,
   "id": "afffed02",
   "metadata": {},
   "outputs": [
    {
     "data": {
      "text/plain": [
       "[[7, 0, 0], [-7, 0, 3]]"
      ]
     },
     "execution_count": 8,
     "metadata": {},
     "output_type": "execute_result"
    }
   ],
   "source": [
    "def sparse_matrix(m,n):\n",
    "    \n",
    "    row=len(m[0])\n",
    "    col=len(m)\n",
    "    col2=len(n)\n",
    "    matrix = [[0] * row for _ in range(col)]\n",
    "    l=[]\n",
    "    p=[]\n",
    "    #while len(matrix)<=col:\n",
    "    for i in range(0,col):\n",
    "        for j in range(0,row):\n",
    "            a=m[i][j]\n",
    "            num=0\n",
    "            for k in range(0,col2):\n",
    "                s=0\n",
    "                b=n[k][j]\n",
    "                num=a*b\n",
    "                matrix[i][k]+=num\n",
    "                \n",
    "    \n",
    "    return matrix\n",
    "\n",
    "sparse_matrix([[1,0,0],[-1,0,3]],[[7,0,0],[0,0,0],[0,0,1]])\n"
   ]
  },
  {
   "cell_type": "code",
   "execution_count": null,
   "id": "01597512",
   "metadata": {},
   "outputs": [],
   "source": []
  }
 ],
 "metadata": {
  "kernelspec": {
   "display_name": "Python 3 (ipykernel)",
   "language": "python",
   "name": "python3"
  },
  "language_info": {
   "codemirror_mode": {
    "name": "ipython",
    "version": 3
   },
   "file_extension": ".py",
   "mimetype": "text/x-python",
   "name": "python",
   "nbconvert_exporter": "python",
   "pygments_lexer": "ipython3",
   "version": "3.9.13"
  }
 },
 "nbformat": 4,
 "nbformat_minor": 5
}
