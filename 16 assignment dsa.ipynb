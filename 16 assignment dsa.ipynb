{
 "cells": [
  {
   "cell_type": "markdown",
   "id": "e6791e41",
   "metadata": {},
   "source": [
    "Question 1\n",
    "\n",
    "Given an array, for each element find the value of the nearest element to the right which is having a frequency greater than that of the current element. If there does not exist an answer for a position, then make the value ‘-1’.\n"
   ]
  },
  {
   "cell_type": "code",
   "execution_count": 51,
   "id": "beccfd3a",
   "metadata": {},
   "outputs": [
    {
     "data": {
      "text/plain": [
       "[3, 1, 2, -1, -1, -1, 3, 3, 2, -1, -1]"
      ]
     },
     "execution_count": 51,
     "metadata": {},
     "output_type": "execute_result"
    }
   ],
   "source": [
    "def nearestelement(lst):\n",
    "    \n",
    "    a=[]\n",
    "    for i in range(len(lst)):\n",
    "        a.append(lst.count(lst[i]))\n",
    "    #print(a)\n",
    "    num=a\n",
    "#def findnearest(self):\n",
    "    sorted_lst=sorted(list(set(a)))\n",
    "    length=len(lst)\n",
    "    maximum=max(a)\n",
    "    minimum=min(a)\n",
    "    temp=minimum+1\n",
    "    for i in range(len(a)):\n",
    "        if a[i]==maximum:\n",
    "            num[i]=-1\n",
    "        elif a[i]==minimum:\n",
    "            num[i]=1\n",
    "        elif a[i]>minimum and a[i]<maximum:\n",
    "            \n",
    "            if a[i]==temp:\n",
    "                num[i]=temp\n",
    "                temp=temp+1\n",
    "                \n",
    "            else:\n",
    "                temp=temp+1\n",
    "    return a\n",
    "\n",
    "nearestelement([1,5,4,2,2,2,1,1,4,2,2])"
   ]
  },
  {
   "cell_type": "markdown",
   "id": "f45619dc",
   "metadata": {},
   "source": [
    "Question 2\n",
    "\n",
    "Given a stack of integers, sort it in ascending order using another temporary stack.\n",
    "\n",
    "</aside>"
   ]
  },
  {
   "cell_type": "code",
   "execution_count": 63,
   "id": "e80f75e2",
   "metadata": {},
   "outputs": [
    {
     "data": {
      "text/plain": [
       "[10, 6, 2, 1]"
      ]
     },
     "execution_count": 63,
     "metadata": {},
     "output_type": "execute_result"
    }
   ],
   "source": [
    "from collections import deque\n",
    "\n",
    "class stack:\n",
    "    def __init__(self):\n",
    "        self.data=deque()\n",
    "    \n",
    "    def push(self,data):\n",
    "        self.data.append(data)\n",
    "        \n",
    "    def sort_stack(self):\n",
    "        stack=(self.data)\n",
    "        temp_stack=[]\n",
    "        while stack:\n",
    "            temp=stack.pop()\n",
    "            \n",
    "            while temp_stack and temp_stack[-1] > temp:\n",
    "                stack.append(temp_stack.pop())\n",
    "            temp_stack.append(temp)\n",
    "            \n",
    "        while temp_stack:\n",
    "            stack.append(temp_stack.pop())\n",
    "        \n",
    "        return list(stack)\n",
    "        \n",
    "        \n",
    "S=stack()\n",
    "S.push(1)\n",
    "S.push(6)\n",
    "S.push(2)\n",
    "S.push(10)\n",
    "S.sort_stack()"
   ]
  },
  {
   "cell_type": "markdown",
   "id": "b09c87a6",
   "metadata": {},
   "source": [
    "Question 3\n",
    "\n",
    "Given a stack with **push()**, **pop()**, and **empty()** operations, The task is to delete the **middle** element ****of it without using any additional data structure.\n",
    "\n",
    "</aside>"
   ]
  },
  {
   "cell_type": "code",
   "execution_count": 70,
   "id": "6d5b6cd6",
   "metadata": {},
   "outputs": [
    {
     "data": {
      "text/plain": [
       "12"
      ]
     },
     "execution_count": 70,
     "metadata": {},
     "output_type": "execute_result"
    }
   ],
   "source": [
    "from collections import deque\n",
    "\n",
    "class stack:\n",
    "    def __init__(self):\n",
    "        self.data=deque()\n",
    "    \n",
    "    def push(self,data):\n",
    "        self.data.append(data)\n",
    "    def pop(self):\n",
    "        self.data.pop()\n",
    "    def empty(self):\n",
    "\n",
    "        if self.data:\n",
    "            st1=self.data\n",
    "            count=0\n",
    "            for i in st1:\n",
    "                count+=1\n",
    "                i=i+1\n",
    "            mid=count//2\n",
    "        else:\n",
    "            print(\"Empty Stack\")\n",
    "        \n",
    "        return st1[mid]\n",
    "\n",
    "S=stack()\n",
    "S.push(1)\n",
    "S.push(6)\n",
    "S.push(2)\n",
    "S.pop()\n",
    "S.pop()\n",
    "S.push(12)\n",
    "S.push(4)\n",
    "S.push(10)\n",
    "S.pop()\n",
    "S.empty()"
   ]
  },
  {
   "cell_type": "markdown",
   "id": "9eb9a788",
   "metadata": {},
   "source": [
    "Question 4\n",
    "\n",
    "Given a Queue consisting of first **n** natural numbers (in random order). The task is to check whether the given Queue elements can be arranged in increasing order in another Queue using a stack. The operation allowed are:\n",
    "\n",
    "1. Push and pop elements from the stack\n",
    "2. Pop (Or Dequeue) from the given Queue.\n",
    "3. Push (Or Enqueue) in the another Queue.\n",
    "</aside>"
   ]
  },
  {
   "cell_type": "code",
   "execution_count": 21,
   "id": "e955faf7",
   "metadata": {},
   "outputs": [
    {
     "name": "stdout",
     "output_type": "stream",
     "text": [
      "deque([1])\n",
      "deque([1, 6])\n",
      "deque([1, 6, 2])\n",
      "deque([1, 6, 2, 10])\n",
      "after rearranging the list into increasing pattern\n"
     ]
    },
    {
     "data": {
      "text/plain": [
       "[1, 2, 6, 10]"
      ]
     },
     "execution_count": 21,
     "metadata": {},
     "output_type": "execute_result"
    }
   ],
   "source": [
    "from collections import deque\n",
    "\n",
    "class stack:\n",
    "    def __init__(self):\n",
    "        self.data=deque()\n",
    "    \n",
    "    def push(self,data):\n",
    "        self.data.append(data)\n",
    "        print(self.data)\n",
    "     \n",
    "    def popandpush(self):\n",
    "        stack=(self.data)\n",
    "        temp_stack=[]\n",
    "        while stack:\n",
    "            temp=stack.pop()\n",
    "             \n",
    "            while temp_stack and temp_stack[-1] > temp:\n",
    "                stack.append(temp_stack.pop())\n",
    "            temp_stack.append(temp)\n",
    "              \n",
    "        return temp_stack\n",
    "    \n",
    "S=stack()\n",
    "S.push(1)\n",
    "S.push(6)\n",
    "S.push(2)\n",
    "S.push(10)\n",
    "print('after rearranging the list into increasing pattern')\n",
    "S.popandpush()"
   ]
  },
  {
   "cell_type": "markdown",
   "id": "3e7cd349",
   "metadata": {},
   "source": [
    "Question 5\n",
    "\n",
    "Given a number , write a program to reverse this number using stack.\n",
    "\n"
   ]
  },
  {
   "cell_type": "code",
   "execution_count": 19,
   "id": "b178f179",
   "metadata": {},
   "outputs": [
    {
     "name": "stdout",
     "output_type": "stream",
     "text": [
      "258\n"
     ]
    },
    {
     "data": {
      "text/plain": [
       "852"
      ]
     },
     "execution_count": 19,
     "metadata": {},
     "output_type": "execute_result"
    }
   ],
   "source": [
    "class stack:\n",
    "    def pushandreverse(self,data):\n",
    "        #data=data+1\n",
    "        print(data)\n",
    "\n",
    "        stack=data\n",
    "        rever=0\n",
    "        while stack>0:\n",
    "            digit=stack%10\n",
    "            rever=rever*10+digit\n",
    "            stack//=10\n",
    "        return rever\n",
    "\n",
    "S=stack()\n",
    "S.pushandreverse(258)\n"
   ]
  },
  {
   "cell_type": "markdown",
   "id": "3b69eb4d",
   "metadata": {},
   "source": [
    "Question 6\n",
    "\n",
    "Given an integer k and a **[queue](https://www.geeksforgeeks.org/queue-data-structure/)** of integers, The task is to reverse the order of the first **k** elements of the queue, leaving the other elements in the same relative order.\n",
    "\n",
    "</aside>"
   ]
  },
  {
   "cell_type": "code",
   "execution_count": 28,
   "id": "a88a06b8",
   "metadata": {},
   "outputs": [
    {
     "name": "stdout",
     "output_type": "stream",
     "text": [
      "Reversed Queue: [3, 2, 1, 4, 5]\n"
     ]
    }
   ],
   "source": [
    "def reverse_first_k_elements(queue, k):\n",
    "    if k <= 0 or k > len(queue):\n",
    "        return queue  \n",
    "    stack = []\n",
    "\n",
    "    for i in range(k):\n",
    "        stack.append(queue.dequeue())\n",
    "\n",
    "    while stack:\n",
    "        queue.enqueue(stack.pop())\n",
    "\n",
    "    for i in range(len(queue) - k):\n",
    "        queue.enqueue(queue.dequeue())\n",
    "\n",
    "    return queue\n",
    "\n",
    "class Queue:\n",
    "    def __init__(self):\n",
    "        self.items = []\n",
    "\n",
    "    def enqueue(self, item):\n",
    "        self.items.append(item)\n",
    "\n",
    "    def dequeue(self):\n",
    "        if not self.is_empty():\n",
    "            return self.items.pop(0)\n",
    "\n",
    "    def is_empty(self):\n",
    "        return len(self.items) == 0\n",
    "\n",
    "    def __len__(self):\n",
    "        return len(self.items)\n",
    "\n",
    "my_queue = Queue()\n",
    "my_queue.enqueue(1)\n",
    "my_queue.enqueue(2)\n",
    "my_queue.enqueue(3)\n",
    "my_queue.enqueue(4)\n",
    "my_queue.enqueue(5)\n",
    "\n",
    "k = 3\n",
    "\n",
    "reversed_queue = reverse_first_k_elements(my_queue, k)\n",
    "print(\"Reversed Queue:\", [reversed_queue.dequeue() for _ in range(len(reversed_queue))]) \n"
   ]
  },
  {
   "cell_type": "markdown",
   "id": "f5790d94",
   "metadata": {},
   "source": [
    "Question 7\n",
    "Given a sequence of n strings, the task is to check if any two similar words come together and then destroy each other then print the number of words left in the sequence after this pairwise destruction."
   ]
  },
  {
   "cell_type": "code",
   "execution_count": 29,
   "id": "36d20c9c",
   "metadata": {},
   "outputs": [
    {
     "name": "stdout",
     "output_type": "stream",
     "text": [
      "Number of words left after pairwise destruction: 4\n"
     ]
    }
   ],
   "source": [
    "def pairwise_destruction(sequence):\n",
    "    stack = []\n",
    "\n",
    "    for word in sequence:\n",
    "        if stack and stack[-1] == word:\n",
    "            stack.pop()  \n",
    "        else:\n",
    "            stack.append(word)\n",
    "\n",
    "    return len(stack)\n",
    "\n",
    "sequence = [\"apple\", \"orange\", \"orange\", \"banana\", \"apple\", \"grape\", \"grape\", \"kiwi\"]\n",
    "result = pairwise_destruction(sequence)\n",
    "print(\"Number of words left after pairwise destruction:\", result) \n"
   ]
  },
  {
   "cell_type": "markdown",
   "id": "8901c97c",
   "metadata": {},
   "source": [
    "Question 8\n",
    "Given an array of integers, the task is to find the maximum absolute difference between the nearest left and the right smaller element of every element in the array.\n",
    "\n",
    "**Note:** If there is no smaller element on right side or left side of any element then we take zero as the smaller element. For example for the leftmost element, the nearest smaller element on the left side is considered as 0. Similarly, for rightmost elements, the smaller element on the right side is considered as 0."
   ]
  },
  {
   "cell_type": "code",
   "execution_count": 30,
   "id": "6ef7cf2a",
   "metadata": {},
   "outputs": [
    {
     "name": "stdout",
     "output_type": "stream",
     "text": [
      "Maximum absolute difference: 6\n"
     ]
    }
   ],
   "source": [
    "def max_absolute_difference(arr):\n",
    "    def find_nearest_smaller_elements(lst):\n",
    "        stack = []\n",
    "        result = [0] * len(lst)\n",
    "\n",
    "        for i in range(len(lst)):\n",
    "            while stack and lst[stack[-1]] > lst[i]:\n",
    "                popped_index = stack.pop()\n",
    "                result[popped_index] = lst[i]\n",
    "\n",
    "            stack.append(i)\n",
    "\n",
    "        return result\n",
    "\n",
    "    left_smaller = find_nearest_smaller_elements(arr)\n",
    "    right_smaller = find_nearest_smaller_elements(arr[::-1])[::-1]  \n",
    "\n",
    "    max_diff = 0\n",
    "    for i in range(len(arr)):\n",
    "        diff = abs(left_smaller[i] - right_smaller[i])\n",
    "        max_diff = max(max_diff, diff)\n",
    "\n",
    "    return max_diff\n",
    "\n",
    "\n",
    "arr = [2, 1, 8, 7, 6, 5, 3, 10]\n",
    "result = max_absolute_difference(arr)\n",
    "print(\"Maximum absolute difference:\", result) "
   ]
  },
  {
   "cell_type": "code",
   "execution_count": null,
   "id": "e281671d",
   "metadata": {},
   "outputs": [],
   "source": []
  }
 ],
 "metadata": {
  "kernelspec": {
   "display_name": "Python 3 (ipykernel)",
   "language": "python",
   "name": "python3"
  },
  "language_info": {
   "codemirror_mode": {
    "name": "ipython",
    "version": 3
   },
   "file_extension": ".py",
   "mimetype": "text/x-python",
   "name": "python",
   "nbconvert_exporter": "python",
   "pygments_lexer": "ipython3",
   "version": "3.9.13"
  }
 },
 "nbformat": 4,
 "nbformat_minor": 5
}
