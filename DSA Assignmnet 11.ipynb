{
 "cells": [
  {
   "cell_type": "markdown",
   "metadata": {},
   "source": [
    "##### Assignment Questions-11---DSA\n",
    "\n",
    "###### Name: Ayan Chowdhury \n",
    "\n",
    "##### FSDS 2.0"
   ]
  },
  {
   "cell_type": "markdown",
   "metadata": {},
   "source": [
    "Q1: Given a non-negative integer `x`, return *the square root of* `x` *rounded down to the nearest integer*. The returned integer should be **non-negative** as well.\n",
    "\n",
    "You **must not use** any built-in exponent function or operator.\n",
    "\n",
    "- For example, do not use `pow(x, 0.5)` in c++ or `x ** 0.5` in python."
   ]
  },
  {
   "cell_type": "code",
   "execution_count": 1,
   "metadata": {},
   "outputs": [
    {
     "data": {
      "text/plain": [
       "5"
      ]
     },
     "execution_count": 1,
     "metadata": {},
     "output_type": "execute_result"
    }
   ],
   "source": [
    "def sqrt_num(nums):\n",
    "    if nums<=2:\n",
    "        return nums\n",
    "    low=1\n",
    "    high=nums\n",
    "    while low<=high:\n",
    "        mid=(low+high)//2\n",
    "        if mid*mid==nums:\n",
    "            return mid\n",
    "        else:\n",
    "            if mid*mid<nums:\n",
    "                low=mid+1\n",
    "            else:\n",
    "                high=mid-1\n",
    "    return high\n",
    "\n",
    "\n",
    "\n",
    "sqrt_num(25)"
   ]
  },
  {
   "cell_type": "markdown",
   "metadata": {},
   "source": [
    "Q3: A peak element is an element that is strictly greater than its neighbors.\n",
    "\n",
    "Given a **0-indexed** integer array `nums`, find a peak element, and return its index. If the array contains multiple peaks, return the index to **any of the peaks**.\n",
    "\n",
    "You may imagine that `nums[-1] = nums[n] = -∞`. In other words, an element is always considered to be strictly greater than a neighbor that is outside the array.\n",
    "\n",
    "You must write an algorithm that runs in `O(log n)` time."
   ]
  },
  {
   "cell_type": "code",
   "execution_count": 2,
   "metadata": {},
   "outputs": [
    {
     "data": {
      "text/plain": [
       "0"
      ]
     },
     "execution_count": 2,
     "metadata": {},
     "output_type": "execute_result"
    }
   ],
   "source": [
    "def find_nums(nums):\n",
    "    rev=sorted(nums)\n",
    "    for i in range(len(nums)):\n",
    "        if rev[-1]==nums[i]:\n",
    "            ele=i\n",
    "            break\n",
    "        else:\n",
    "            i=i+1\n",
    "    return i\n",
    "        \n",
    "find_nums([10,5,8,4,9,2])"
   ]
  },
  {
   "cell_type": "markdown",
   "metadata": {},
   "source": [
    "Q 3: Given an array nums containing n distinct numbers in the range [0, n], return the only number in the range that is missing from the array."
   ]
  },
  {
   "cell_type": "code",
   "execution_count": 3,
   "metadata": {},
   "outputs": [
    {
     "data": {
      "text/plain": [
       "8"
      ]
     },
     "execution_count": 3,
     "metadata": {},
     "output_type": "execute_result"
    }
   ],
   "source": [
    "def find_nums(nums):\n",
    "    srt=sorted(nums)\n",
    "    mx=srt[-1]\n",
    "    mn=srt[0]\n",
    "    for i in range(mn,mx):\n",
    "        for j in nums:\n",
    "            if j==i:\n",
    "                i=i+1\n",
    "            else:\n",
    "                temp=i\n",
    "    return temp\n",
    "                \n",
    "find_nums([1,6,3,7,9,5,4])"
   ]
  },
  {
   "cell_type": "markdown",
   "metadata": {},
   "source": [
    "Q 4: Given an array of integers `nums` containing `n + 1` integers where each integer is in the range `[1, n]` inclusive.\n",
    "\n",
    "There is only **one repeated number** in `nums`, return *this repeated number*.\n",
    "\n",
    "You must solve the problem **without** modifying the array `nums` and uses only constant extra space."
   ]
  },
  {
   "cell_type": "code",
   "execution_count": 4,
   "metadata": {},
   "outputs": [
    {
     "data": {
      "text/plain": [
       "4"
      ]
     },
     "execution_count": 4,
     "metadata": {},
     "output_type": "execute_result"
    }
   ],
   "source": [
    "def find_nums(nums):\n",
    "    p1 = nums[0]\n",
    "    p2 = nums[0]\n",
    "\n",
    "    while True:\n",
    "        p1 = nums[p1]\n",
    "        p2 = nums[nums[p2]]\n",
    "        if p1 == p2:\n",
    "            break\n",
    "            \n",
    "    p2 = nums[0]\n",
    "    while p1 != p2:\n",
    "        p1 = nums[p1]\n",
    "        p2 = nums[p2]\n",
    "\n",
    "    return p1\n",
    "\n",
    "find_nums([2,3,4,4,5,6,9,7,8,1])"
   ]
  },
  {
   "cell_type": "markdown",
   "metadata": {},
   "source": [
    "Q 5: Given two integer arrays nums1 and nums2, return an array of their intersection. Each element in the result must be unique and you may return the result in any order."
   ]
  },
  {
   "cell_type": "code",
   "execution_count": 5,
   "metadata": {},
   "outputs": [
    {
     "data": {
      "text/plain": [
       "[3, 5]"
      ]
     },
     "execution_count": 5,
     "metadata": {},
     "output_type": "execute_result"
    }
   ],
   "source": [
    "def find_inter(nums1,nums2):\n",
    "    a=[]\n",
    "    for i in range(len(nums1)):\n",
    "        for j in nums2:\n",
    "            if nums1[i]==j:\n",
    "                a.append(j)\n",
    "                \n",
    "            else:\n",
    "                j=j+1\n",
    "    return a\n",
    "\n",
    "find_inter([2,3,4,5],[1,9,8,3,5])"
   ]
  },
  {
   "cell_type": "markdown",
   "metadata": {},
   "source": [
    "Q6:\n",
    "Suppose an array of length `n` sorted in ascending order is **rotated** between `1` and `n` times. For example, the array `nums = [0,1,2,4,5,6,7]` might become:\n",
    "\n",
    "- `[4,5,6,7,0,1,2]` if it was rotated `4` times.\n",
    "- `[0,1,2,4,5,6,7]` if it was rotated `7` times.\n",
    "\n",
    "Notice that **rotating** an array `[a[0], a[1], a[2], ..., a[n-1]]` 1 time results in the array `[a[n-1], a[0], a[1], a[2], ..., a[n-2]]`.\n",
    "\n",
    "Given the sorted rotated array `nums` of **unique** elements, return *the minimum element of this array*."
   ]
  },
  {
   "cell_type": "code",
   "execution_count": 6,
   "metadata": {},
   "outputs": [
    {
     "name": "stdout",
     "output_type": "stream",
     "text": [
      "minimum element in the reversed array:2\n"
     ]
    },
    {
     "data": {
      "text/plain": [
       "[2, 3, 4, 9]"
      ]
     },
     "execution_count": 6,
     "metadata": {},
     "output_type": "execute_result"
    }
   ],
   "source": [
    "def reverseArray(arr):\n",
    "    n=len(arr)\n",
    "    for _ in range (n-1):\n",
    "        temp=arr[-1]\n",
    "        for i in range(len(arr)-1,0,-1):\n",
    "            arr[i]=arr[i-1]\n",
    "        arr[0]=temp\n",
    "    new_arr=arr\n",
    "    min_ele=new_arr[0]\n",
    "    for j in new_arr[1:]:\n",
    "        if j<min_ele:\n",
    "            min_ele=j\n",
    "    print(f'minimum element in the reversed array:{min_ele}')\n",
    "    return new_arr\n",
    "\n",
    "reverseArray([9,2,3,4])"
   ]
  },
  {
   "cell_type": "markdown",
   "metadata": {},
   "source": [
    "Q7: Given an array of integers `nums` sorted in non-decreasing order, find the starting and ending position of a given `target` value.\n",
    "\n",
    "If `target` is not found in the array, return `[-1, -1]`.\n",
    "\n",
    "You must write an algorithm with `O(log n)` runtime complexity."
   ]
  },
  {
   "cell_type": "code",
   "execution_count": 7,
   "metadata": {},
   "outputs": [
    {
     "data": {
      "text/plain": [
       "[-1, -1]"
      ]
     },
     "execution_count": 7,
     "metadata": {},
     "output_type": "execute_result"
    }
   ],
   "source": [
    "def find_target(nums,target):\n",
    "    for i in range(len(nums)):\n",
    "        nums1=nums[0]\n",
    "        nums2=0\n",
    "        if target==nums[i]:\n",
    "            nums2=nums[i]\n",
    "            break\n",
    "        else:\n",
    "            nums2=-1\n",
    "            nums1=-1\n",
    "            i=i+1\n",
    "    a=[nums1,nums2]\n",
    "        \n",
    "    return a\n",
    " \n",
    "find_target([2,3,4,5,6,7,8],9)"
   ]
  },
  {
   "cell_type": "markdown",
   "metadata": {},
   "source": [
    "Q8:\n",
    "Given two integer arrays nums1 and nums2, return an array of their intersection. Each element in the result must appear as many times as it shows in both arrays and you may return the result in any order."
   ]
  },
  {
   "cell_type": "code",
   "execution_count": 8,
   "metadata": {},
   "outputs": [
    {
     "data": {
      "text/plain": [
       "[3, 5]"
      ]
     },
     "execution_count": 8,
     "metadata": {},
     "output_type": "execute_result"
    }
   ],
   "source": [
    "def find_inter(nums1,nums2):\n",
    "    a=[]\n",
    "    for i in range(len(nums1)):\n",
    "        for j in nums2:\n",
    "            if nums1[i]==j:\n",
    "                a.append(j)\n",
    "                \n",
    "            else:\n",
    "                j=j+1\n",
    "    lst=list(set(a))\n",
    "    return lst\n",
    "\n",
    "find_inter([2,3,3,5],[1,9,4,3,5])"
   ]
  },
  {
   "cell_type": "code",
   "execution_count": null,
   "metadata": {},
   "outputs": [],
   "source": []
  }
 ],
 "metadata": {
  "kernelspec": {
   "display_name": "Python 3",
   "language": "python",
   "name": "python3"
  },
  "language_info": {
   "codemirror_mode": {
    "name": "ipython",
    "version": 3
   },
   "file_extension": ".py",
   "mimetype": "text/x-python",
   "name": "python",
   "nbconvert_exporter": "python",
   "pygments_lexer": "ipython3",
   "version": "3.7.1"
  }
 },
 "nbformat": 4,
 "nbformat_minor": 2
}
